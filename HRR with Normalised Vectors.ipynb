{
 "metadata": {
  "name": ""
 },
 "nbformat": 3,
 "nbformat_minor": 0,
 "worksheets": [
  {
   "cells": [
    {
     "cell_type": "heading",
     "level": 1,
     "metadata": {},
     "source": [
      "Holographic Reduced Representations with Normalised Vectors"
     ]
    },
    {
     "cell_type": "code",
     "collapsed": false,
     "input": [
      "%cd ~/Documents/University/Postgraduate/hrr-playground/\n",
      "from Holographic import *\n",
      "%cd ~/Documents/University/Postgraduate/Notebooks/"
     ],
     "language": "python",
     "metadata": {},
     "outputs": [
      {
       "output_type": "stream",
       "stream": "stdout",
       "text": [
        "/home/andrew/Documents/University/Postgraduate/hrr-playground\n",
        "/home/andrew/Documents/University/Postgraduate/Notebooks\n"
       ]
      }
     ],
     "prompt_number": 19
    },
    {
     "cell_type": "markdown",
     "metadata": {},
     "source": [
      "In order to demonstrate using HRRs we need a vector generator which produces normalised vectors, this is created below along with a memory which uses the normalised generator."
     ]
    },
    {
     "cell_type": "code",
     "collapsed": false,
     "input": [
      "def normalised_generator( d ):\n",
      "    v_ = random.normal( 0, sqrt(1./d), size=(d) ) # Create a normally distributed vector as per usual\n",
      "    m = sqrt( sum( v_**2 ) ) # Get the magnitude of the vector\n",
      "    v = v_ / m # Normalise the vector\n",
      "    return v\n",
      "\n",
      "c_mem = CleanUpMemory( 100, generator=normalised_generator )"
     ],
     "language": "python",
     "metadata": {},
     "outputs": [],
     "prompt_number": 20
    },
    {
     "cell_type": "markdown",
     "metadata": {},
     "source": [
      "We now create a pair of symbols, **a** and **b** which are added to the clean up memory."
     ]
    },
    {
     "cell_type": "code",
     "collapsed": false,
     "input": [
      "[a,b] = map( c_mem.get_symbol, ['a', 'b'] )"
     ],
     "language": "python",
     "metadata": {},
     "outputs": [],
     "prompt_number": 21
    },
    {
     "cell_type": "markdown",
     "metadata": {},
     "source": [
      "These are then bound together to create a new vector **c**."
     ]
    },
    {
     "cell_type": "code",
     "collapsed": false,
     "input": [
      "c = a.bind( b )"
     ],
     "language": "python",
     "metadata": {},
     "outputs": [],
     "prompt_number": 22
    },
    {
     "cell_type": "markdown",
     "metadata": {},
     "source": [
      "We may then unbind **a** and **b** from **c** to gain approximations of **b** and **a** respectively."
     ]
    },
    {
     "cell_type": "code",
     "collapsed": false,
     "input": [
      "b_ = c.unbind( a )\n",
      "a_ = c.unbind( b )"
     ],
     "language": "python",
     "metadata": {},
     "outputs": [],
     "prompt_number": 23
    },
    {
     "cell_type": "markdown",
     "metadata": {},
     "source": [
      "Finally, we can illustrate the similarity between any **a**, **b**, **c**, **a_**, **b_** and any of the vectors stored in the memory."
     ]
    },
    {
     "cell_type": "code",
     "collapsed": false,
     "input": [
      "for s in [a,b,c,a_,b_]:\n",
      "    print( \"%s is similar to:\" % s )\n",
      "    for ( s_, c_ ) in c_mem.clean_up( s ):\n",
      "        print( \"\\t%s -> %.3f\" % ( s_, c_ ) )"
     ],
     "language": "python",
     "metadata": {},
     "outputs": [
      {
       "output_type": "stream",
       "stream": "stdout",
       "text": [
        "a is similar to:\n",
        "\ta -> 1.000\n",
        "\tb -> 0.097\n",
        "b is similar to:\n",
        "\tb -> 1.000\n",
        "\ta -> 0.097\n",
        "(a (*) b) is similar to:\n",
        "\tb -> 0.222\n",
        "\ta -> -0.025\n",
        "((a (*) b) (*) b') is similar to:\n",
        "\ta -> 0.674\n",
        "\tb -> 0.254\n",
        "((a (*) b) (*) a') is similar to:\n",
        "\tb -> 0.767\n",
        "\ta -> 0.150\n"
       ]
      }
     ],
     "prompt_number": 24
    },
    {
     "cell_type": "code",
     "collapsed": false,
     "input": [],
     "language": "python",
     "metadata": {},
     "outputs": [],
     "prompt_number": 24
    }
   ],
   "metadata": {}
  }
 ]
}
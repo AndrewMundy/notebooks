{
 "metadata": {
  "name": "Plate1995.X"
 },
 "nbformat": 3,
 "nbformat_minor": 0,
 "worksheets": [
  {
   "cells": [
    {
     "cell_type": "heading",
     "level": 1,
     "metadata": {},
     "source": [
      "An example of encoding and decoding HRRs"
     ]
    },
    {
     "cell_type": "markdown",
     "metadata": {},
     "source": [
      "From (Plate 1995)."
     ]
    },
    {
     "cell_type": "code",
     "collapsed": false,
     "input": [
      "%cd ../hrr-playground/\n",
      "from Holographic import *\n",
      "%cd ../notebooks/\n",
      "\n",
      "import sys\n",
      "\n",
      "# Create the holographic memory\n",
      "mem = CleanUpMemory( 512, generator=vec_generate_normalised )\n",
      "\n",
      "# Create some basic symbols\n",
      "features = dict( map( lambda l : (l, Symbol( l, dimensionality = 512 ) ), [\"being\", \"person\", \"food\", \"fish\", \"bread\", \"state\", \"agt\", \"obj\"] ) )\n",
      "ids = dict( map( lambda l : ( \"id_%s\" % l, Symbol( \"id_%s\" % l, dimensionality = 512 ) ), [\"mark\", \"john\", \"paul\", \"luke\", \"the_fish\", \"the_bread\", \"hunger\", \"thirst\", \"eat_agent\", \"eat_object\"] ) )\n",
      "verbs = dict( map( lambda l : ( \"id_%s\" % l, Symbol( \"id_%s\" % l, dimensionality = 512 ) ), [\"eat\", \"cause\", \"see\"] ) )\n",
      "\n",
      "# Token and role vectors\n",
      "symbols = {}\n",
      "\n",
      "# More complex entities\n",
      "for (a, b, obj) in [\n",
      "                    (\"being\", \"person\", \"mark\"),\n",
      "                    (\"being\", \"person\", \"john\"),\n",
      "                    (\"being\", \"person\", \"paul\"),\n",
      "                    (\"being\", \"person\", \"luke\"),\n",
      "                    (\"food\", \"fish\", \"the_fish\"),\n",
      "                    (\"food\", \"bread\", \"the_bread\"),\n",
      "    ]:\n",
      "    s_ = ids[\"id_%s\" % obj] + features[a] + features[b]\n",
      "    s = Symbol( \"%s\" % obj, vector = s_.vector() )\n",
      "    mem.add_symbol( s )\n",
      "    symbols[obj] = s\n",
      "\n",
      "for (obj, a) in [(\"hunger\", \"state\"), (\"thirst\", \"state\"), (\"eat_agent\", \"agt\"), (\"eat_object\", \"obj\")]:\n",
      "    s_ = ids[\"id_%s\" % obj] + features[a]\n",
      "    s = Symbol( \"%s\" % obj, vector = s_.vector() )\n",
      "    mem.add_symbol( s )\n",
      "    symbols[obj] = s"
     ],
     "language": "python",
     "metadata": {},
     "outputs": [
      {
       "output_type": "stream",
       "stream": "stdout",
       "text": [
        "/home/PhD12/mundya/Documents/hrr-playground\n",
        "/home/PhD12/mundya/Documents/notebooks\n",
        "mark\n"
       ]
      }
     ],
     "prompt_number": 2
    },
    {
     "cell_type": "heading",
     "level": 2,
     "metadata": {},
     "source": [
      "Similarities of Tokens"
     ]
    },
    {
     "cell_type": "code",
     "collapsed": false,
     "input": [
      "cs = [\"mark\", \"john\", \"paul\", \"luke\", \"the_fish\", \"the_bread\"]\n",
      "\n",
      "sys.stdout.write( \"%9s | \" % '' )\n",
      "for c in cs:\n",
      "    sys.stdout.write( \"%9s\\t| \" % symbols[c] )\n",
      "\n",
      "for i in range( len(cs) ):\n",
      "    s = symbols[cs[i]]\n",
      "    sys.stdout.write( \"\\n%9s | \" % s )\n",
      "    for j in range( len(cs) ):\n",
      "        if not j > i:\n",
      "            s_ = symbols[cs[j]]\n",
      "            sys.stdout.write( \"% 9.3f\\t| \" % (s.comparison(s_) ) )"
     ],
     "language": "python",
     "metadata": {},
     "outputs": [
      {
       "output_type": "stream",
       "stream": "stdout",
       "text": [
        "          |      mark\t|      john\t|      paul\t|      luke\t|  the_fish\t| the_bread\t| \n",
        "     mark |     1.000\t| \n",
        "     john |     0.677\t|     1.000\t| \n",
        "     paul |     0.661\t|     0.691\t|     1.000\t| \n",
        "     luke |     0.697\t|     0.715\t|     0.691\t|     1.000\t| \n",
        " the_fish |    -0.030\t|     0.018\t|    -0.016\t|    -0.025\t|     1.000\t| \n",
        "the_bread |    -0.016\t|    -0.016\t|     0.003\t|     0.034\t|     0.338\t|     1.000\t| "
       ]
      }
     ],
     "prompt_number": 2
    },
    {
     "cell_type": "heading",
     "level": 2,
     "metadata": {},
     "source": [
      "Representation and Similarity of Frames"
     ]
    },
    {
     "cell_type": "code",
     "collapsed": false,
     "input": [
      "frames = [\n",
      "    features[\"eat\"] + symbols[\"eat_agent\"]*symbols[\"mark\"] + symbols[\"eat_object\"]*symbols[\"the_fish\"],\n",
      "]"
     ],
     "language": "python",
     "metadata": {},
     "outputs": [
      {
       "ename": "KeyError",
       "evalue": "'eat'",
       "output_type": "pyerr",
       "traceback": [
        "\u001b[1;31m---------------------------------------------------------------------------\u001b[0m\n\u001b[1;31mKeyError\u001b[0m                                  Traceback (most recent call last)",
        "\u001b[1;32m<ipython-input-5-3362bb8da768>\u001b[0m in \u001b[0;36m<module>\u001b[1;34m()\u001b[0m\n\u001b[0;32m      1\u001b[0m frames = [\n\u001b[1;32m----> 2\u001b[1;33m     \u001b[0mfeatures\u001b[0m\u001b[1;33m[\u001b[0m\u001b[1;34m\"eat\"\u001b[0m\u001b[1;33m]\u001b[0m \u001b[1;33m+\u001b[0m \u001b[0msymbols\u001b[0m\u001b[1;33m[\u001b[0m\u001b[1;34m\"eat_agent\"\u001b[0m\u001b[1;33m]\u001b[0m\u001b[1;33m*\u001b[0m\u001b[0msymbols\u001b[0m\u001b[1;33m[\u001b[0m\u001b[1;34m\"mark\"\u001b[0m\u001b[1;33m]\u001b[0m \u001b[1;33m+\u001b[0m \u001b[0msymbols\u001b[0m\u001b[1;33m[\u001b[0m\u001b[1;34m\"eat_object\"\u001b[0m\u001b[1;33m]\u001b[0m\u001b[1;33m*\u001b[0m\u001b[0msymbols\u001b[0m\u001b[1;33m[\u001b[0m\u001b[1;34m\"the_fish\"\u001b[0m\u001b[1;33m]\u001b[0m\u001b[1;33m,\u001b[0m\u001b[1;33m\u001b[0m\u001b[0m\n\u001b[0m\u001b[0;32m      3\u001b[0m ]\n",
        "\u001b[1;31mKeyError\u001b[0m: 'eat'"
       ]
      }
     ],
     "prompt_number": 5
    },
    {
     "cell_type": "code",
     "collapsed": false,
     "input": [],
     "language": "python",
     "metadata": {},
     "outputs": []
    }
   ],
   "metadata": {}
  }
 ]
}
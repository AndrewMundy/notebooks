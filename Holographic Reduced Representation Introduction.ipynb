{
 "metadata": {
  "name": ""
 },
 "nbformat": 3,
 "nbformat_minor": 0,
 "worksheets": [
  {
   "cells": [
    {
     "cell_type": "markdown",
     "metadata": {},
     "source": [
      "Given two vectors $\\mathbf{a}$ and $\\mathbf{b}$ how can these be combined to form a representation which is distinct from both $\\mathbf{a}$ and $\\mathbf{b}$, and yet allow recovery of one vector given the other?\n",
      "Circular convolution $\\circledast$ provides one means by which this may be achieved, given that a vector may be transformed into a rough inverse (subject to some constraints on the distribution of elements within the vector).\n",
      "\n",
      "Circular convolution is similar to convolution and is defined such that:\n",
      "\n",
      "$\\mathbf{c} = \\mathbf{a} \\circledast \\mathbf{b}$\n",
      "\n",
      "$\\mathbf{c}_j = \\sum\\limits_{k=0}^{n-1} \\mathbf{a}_k \\mathbf{b}_{j-k}$ where indices are modulo $n$.\n",
      "\n",
      "We can illustrate this in Python thus:"
     ]
    },
    {
     "cell_type": "code",
     "collapsed": false,
     "input": [
      "from numpy import * # Use numpy\n",
      "convc_j = lambda j, a, b, n : sum( [ a[k]*b[(j-k) % n] for k in range(n) ] )\n",
      "convc = lambda a, b : map( lambda j : convc_j( j, a, b, a.size ), range( a.size ) )\n",
      "\n",
      "(a,b) = ( array( [1,2,3] ), array( [4,5,6] ) )\n",
      "convc( a, b )"
     ],
     "language": "python",
     "metadata": {},
     "outputs": [
      {
       "metadata": {},
       "output_type": "pyout",
       "prompt_number": 36,
       "text": [
        "[31, 31, 28]"
       ]
      }
     ],
     "prompt_number": 36
    },
    {
     "cell_type": "markdown",
     "metadata": {},
     "source": [
      "By the convolution theorem this can be rewritten as $\\mathbf{c} = \\mathcal{F^{-1}}\\left\\{ \\mathcal{F}\\{\\mathbf{a}\\} \\odot \\mathcal{F}\\{\\mathbf{b}\\} \\right\\}$ where $\\mathcal{F}$ is the discrete Fourier transform and $\\odot$ is the element-wise multiplication of its operands."
     ]
    },
    {
     "cell_type": "code",
     "collapsed": false,
     "input": [
      "real( fft.ifft( fft.fft( a ) * fft.fft( b ) ) )"
     ],
     "language": "python",
     "metadata": {},
     "outputs": [
      {
       "metadata": {},
       "output_type": "pyout",
       "prompt_number": 37,
       "text": [
        "array([ 31.,  31.,  28.])"
       ]
      }
     ],
     "prompt_number": 37
    },
    {
     "cell_type": "markdown",
     "metadata": {},
     "source": [
      "This can lead to some significant speed improvements:"
     ]
    },
    {
     "cell_type": "code",
     "collapsed": false,
     "input": [
      "%time convc(a, b)"
     ],
     "language": "python",
     "metadata": {},
     "outputs": [
      {
       "output_type": "stream",
       "stream": "stdout",
       "text": [
        "CPU times: user 0 ns, sys: 0 ns, total: 0 ns\n",
        "Wall time: 244 \u00b5s\n"
       ]
      },
      {
       "metadata": {},
       "output_type": "pyout",
       "prompt_number": 38,
       "text": [
        "[31, 31, 28]"
       ]
      }
     ],
     "prompt_number": 38
    },
    {
     "cell_type": "code",
     "collapsed": false,
     "input": [
      "%time real( fft.ifft( fft.fft(a) * fft.fft(b) ) )"
     ],
     "language": "python",
     "metadata": {},
     "outputs": [
      {
       "output_type": "stream",
       "stream": "stdout",
       "text": [
        "CPU times: user 0 ns, sys: 0 ns, total: 0 ns\n",
        "Wall time: 168 \u00b5s\n"
       ]
      },
      {
       "metadata": {},
       "output_type": "pyout",
       "prompt_number": 39,
       "text": [
        "array([ 31.,  31.,  28.])"
       ]
      }
     ],
     "prompt_number": 39
    },
    {
     "cell_type": "heading",
     "level": 2,
     "metadata": {},
     "source": [
      "Distribution of Vectors and Rough Inverses"
     ]
    },
    {
     "cell_type": "markdown",
     "metadata": {},
     "source": [
      "In order for the inversion of a vector to be meaningful (in that binding $\\mathbf{a} \\circledast \\mathbf{b} \\circledast \\mathbf{a}^\\prime \\approx \\mathbf{b}$) it is necessary that the elements of a vector of dimensionality $n$ are selected from either a normal distribution with mean $0$ and standard deviation $\\sqrt{ \\frac{1}{n} }$, or from a discrete distribution with values equiprobably $\\pm\\frac{1}{n}$.\n",
      "\n",
      "Again, in Python we can illustrate this thus:"
     ]
    },
    {
     "cell_type": "code",
     "collapsed": false,
     "input": [
      "[a,b] = random.normal( 0, sqrt( 1./5 ), size=(2,5) )\n",
      "print a, b"
     ],
     "language": "python",
     "metadata": {},
     "outputs": [
      {
       "output_type": "stream",
       "stream": "stdout",
       "text": [
        "[ 0.11837487  0.30349372  0.06381042  0.46683506 -0.56777774] [ 0.09854808 -0.33757271 -0.41989131  0.06105843  0.49874438]\n"
       ]
      }
     ],
     "prompt_number": 40
    },
    {
     "cell_type": "markdown",
     "metadata": {},
     "source": [
      "The (rough) inverse is then defined such that\n",
      "\n",
      "$\\mathbf{a}^\\ast = [ \\mathbf{a}_0, \\mathbf{a}_{n-1}, \\mathbf{a}_{n-2}, \\ldots, \\mathbf{a}_1 ]$"
     ]
    },
    {
     "cell_type": "code",
     "collapsed": false,
     "input": [
      "inverse = lambda v : hstack( [ v[0], v[-1:0:-1] ] )\n",
      "[a_, b_] = map( inverse, [a,b] )\n",
      "print a_, b_"
     ],
     "language": "python",
     "metadata": {},
     "outputs": [
      {
       "output_type": "stream",
       "stream": "stdout",
       "text": [
        "[ 0.11837487 -0.56777774  0.46683506  0.06381042  0.30349372] [ 0.09854808  0.49874438  0.06105843 -0.41989131 -0.33757271]\n"
       ]
      }
     ],
     "prompt_number": 41
    },
    {
     "cell_type": "heading",
     "level": 2,
     "metadata": {},
     "source": [
      "Similarity, Binding and Unbinding"
     ]
    },
    {
     "cell_type": "markdown",
     "metadata": {},
     "source": [
      "Vectors may be bound together using circular convolution and unbound using the same operation and their approximate inverse.  To determine the similarity of vectors we may use either their dot product, or normalised dot product.\n",
      "\n",
      "$\\mathbf{a} \\cdot \\mathbf{b} = \\sum\\limits_{n=0}^{|\\mathbf{a}|-1} \\mathbf{a}_n \\mathbf{b}_n = \\|a\\|\\|b\\| \\cos\\theta$ where $\\theta$ is the angle between the vectors."
     ]
    },
    {
     "cell_type": "code",
     "collapsed": false,
     "input": [
      "dotproduct = lambda a, b : sum( a * b )\n",
      "magnitude = lambda v : sqrt( sum( v**2 ) )\n",
      "ndotproduct = lambda a, b : dotproduct( a, b ) / ( magnitude(a) * magnitude(b) )\n",
      "\n",
      "for (c,s) in [('a',a),('b',b)]:\n",
      "    print( \"%s is similar to:\" % c )\n",
      "    for (c_,s_) in [('a',a),('b',b)]:\n",
      "        print( \"\\t%s -> %.3f\" % ( c_, ndotproduct( s, s_ ) ) )"
     ],
     "language": "python",
     "metadata": {},
     "outputs": [
      {
       "output_type": "stream",
       "stream": "stdout",
       "text": [
        "a is similar to:\n",
        "\ta -> 1.000\n",
        "\tb -> -0.621\n",
        "b is similar to:\n",
        "\ta -> -0.621\n",
        "\tb -> 1.000\n"
       ]
      }
     ],
     "prompt_number": 42
    },
    {
     "cell_type": "markdown",
     "metadata": {},
     "source": [
      "This is wrapped up in a [library](https://github.com/AndrewMundy/hrr-playground) which we'll use here for simplicity.  First we'll generate two vectors ($\\mathbf{a}$ and $\\mathbf{b}$), bind them together to form a third vector $\\mathbf{c}$ from which we'll then unbind $\\mathbf{a}$ and $\\mathbf{b}$ in turn to recover approximations of $\\mathbf{b}$ and $\\mathbf{a}$ respectively."
     ]
    },
    {
     "cell_type": "code",
     "collapsed": false,
     "input": [
      "%cd ../hrr-playground/\n",
      "import Holographic\n",
      "\n",
      "# A 100 dimension clean up memory\n",
      "memory = Holographic.CleanUpMemory( 100 )\n",
      "\n",
      "# Generate vectors 'a' and 'b'\n",
      "a = memory.get_symbol( \"a\" )\n",
      "b = memory.get_symbol( \"b\" )\n",
      "\n",
      "# Bind to form c\n",
      "c = a.bind( b )\n",
      "\n",
      "# Now unbind to regain approximations of b and a\n",
      "b_ = c.unbind( a )\n",
      "a_ = c.unbind( b )\n",
      "\n",
      "# Now illustrate the likenesses of each of these vectors to those stored in the memory ('a' and 'b')\n",
      "for v in [a,b,c,b_,a_]:\n",
      "    print( \"\\n%s is similar to:\" % v )\n",
      "    for (s, likeness) in memory.clean_up( v ):\n",
      "        print( \"\\t%s -> %.3f\" % ( s, likeness ) )"
     ],
     "language": "python",
     "metadata": {},
     "outputs": [
      {
       "output_type": "stream",
       "stream": "stdout",
       "text": [
        "/home/andrew/Documents/University/Postgraduate/hrr-playground\n",
        "\n",
        "a is similar to:\n",
        "\ta -> 1.000\n",
        "\tb -> 0.090\n",
        "\n",
        "b is similar to:\n",
        "\tb -> 1.000\n",
        "\ta -> 0.090\n",
        "\n",
        "(a (*) b) is similar to:\n",
        "\ta -> 0.063\n",
        "\tb -> -0.065\n",
        "\n",
        "((a (*) b) (*) a') is similar to:\n",
        "\tb -> 0.705\n",
        "\ta -> 0.245\n",
        "\n",
        "((a (*) b) (*) b') is similar to:\n",
        "\ta -> 0.673\n",
        "\tb -> -0.058\n"
       ]
      }
     ],
     "prompt_number": 43
    },
    {
     "cell_type": "heading",
     "level": 2,
     "metadata": {},
     "source": [
      "Representing Syntactic Structure and Asking Questions"
     ]
    },
    {
     "cell_type": "markdown",
     "metadata": {},
     "source": [
      "We'll generate a new class of memory for this purpose -- a Holographic Additive Memory -- new traces may be added to the existing representation and queried with additional syntactic structures."
     ]
    },
    {
     "cell_type": "code",
     "collapsed": false,
     "input": [
      "class InterrogableMemory( Holographic.CleanUpMemory ):\n",
      "    def __init__( self, dimensionality, **kwargs ):\n",
      "        super( InterrogableMemory, self ).__init__(dimensionality, **kwargs)\n",
      "        \n",
      "        # Store a memory trace\n",
      "        self._trace = Symbol( \"null\", vector = zeros( (dimensionality) ) )\n",
      "    \n",
      "    def state( self, statement ):\n",
      "        \"\"\"State something to the memory.\"\"\"\n",
      "        # Add the new statement to the existing memory trace\n",
      "        self._trace += statement\n",
      "    \n",
      "    def question( self, question ):\n",
      "        \"\"\"Ask something of the memory.  You'll receive a vector to run through\n",
      "        clean_up.\"\"\"\n",
      "        return self._trace.unbind( question )\n",
      "    \n",
      "    def neat_question( self, question ):\n",
      "        \"\"\"Print out a neat response to a given question.\"\"\"\n",
      "        # Ask the question\n",
      "        response = self.question( question )\n",
      "        \n",
      "        # Now clean up the response\n",
      "        print( \"The answer to \\\"%s?\\\" is:\" % question )\n",
      "        for ( answer, similarity ) in self.clean_up( response )[0:3]:\n",
      "            print( \"\\t%s\\t -> \\t%.3f\" % ( answer, similarity ) )\n",
      "        print( \"\\t...\\n\" )\n",
      "\n",
      "# Create an Interrogable Memory\n",
      "mem = InterrogableMemory( 100, generator=Holographic.vec_generate_normalised )\n",
      "\n",
      "# Generate some vectors to represent a sentence or similar\n",
      "[s_obj, s_verb, s_sub, s_man, s_bite, s_dog] = map( mem.get_symbol, [\"Object\", \"Verb\", \"Subject\", \"Man\", \"Bite\", \"Dog\"] )\n",
      "\n",
      "# Construct a sentence and state it to the memory so that we can ask questions about it\n",
      "sentence = s_sub.bind( s_man ) + s_verb.bind( s_bite ) + s_obj.bind( s_dog )\n",
      "mem.state( sentence ) # The memory now contains \"man bites dog\"\n",
      "\n",
      "# What is the subject of the sentence?\n",
      "mem.neat_question( s_sub )\n",
      "\n",
      "# What is the Man doing?\n",
      "mem.neat_question( s_verb )\n",
      "\n",
      "# What is the Man biting?\n",
      "mem.neat_question( s_obj )\n",
      "\n",
      "# What role does the Dog play in the sentence\n",
      "mem.neat_question( s_dog )"
     ],
     "language": "python",
     "metadata": {},
     "outputs": [
      {
       "output_type": "stream",
       "stream": "stdout",
       "text": [
        "The answer to \"Subject?\" is:\n",
        "\tMan\t -> \t0.602\n",
        "\tBite\t -> \t0.073\n",
        "\tDog\t -> \t0.056\n",
        "\t...\n",
        "\n",
        "The answer to \"Verb?\" is:\n",
        "\tBite\t -> \t0.534\n",
        "\tVerb\t -> \t-0.040\n",
        "\tDog\t -> \t-0.176\n",
        "\t...\n",
        "\n",
        "The answer to \"Object?\" is:\n",
        "\tDog\t -> \t0.382\n",
        "\tMan\t -> \t0.203\n",
        "\tObject\t -> \t0.059\n",
        "\t...\n",
        "\n",
        "The answer to \"Dog?\" is:\n",
        "\tObject\t -> \t0.428\n",
        "\tBite\t -> \t0.152\n",
        "\tSubject\t -> \t0.052\n",
        "\t...\n",
        "\n"
       ]
      }
     ],
     "prompt_number": 44
    },
    {
     "cell_type": "code",
     "collapsed": false,
     "input": [],
     "language": "python",
     "metadata": {},
     "outputs": [],
     "prompt_number": 44
    }
   ],
   "metadata": {}
  }
 ]
}
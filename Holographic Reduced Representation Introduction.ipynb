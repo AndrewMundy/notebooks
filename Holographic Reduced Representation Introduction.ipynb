{
 "metadata": {
  "name": ""
 },
 "nbformat": 3,
 "nbformat_minor": 0,
 "worksheets": [
  {
   "cells": [
    {
     "cell_type": "markdown",
     "metadata": {},
     "source": [
      "Given two vectors $\\mathbf{a}$ and $\\mathbf{b}$ how can these be combined to form a representation which is distinct from both $\\mathbf{a}$ and $\\mathbf{b}$, and yet allow recovery of one vector given the other?\n",
      "Circular convolution $\\circledast$ provides one means by which this may be achieved, given that a vector may be transformed into a rough inverse (subject to some constraints on the distribution of elements within the vector).\n",
      "\n",
      "Circular convolution is similar to convolution and is defined such that:\n",
      "\n",
      "$\\mathbf{c} = \\mathbf{a} \\circledast \\mathbf{b}$\n",
      "\n",
      "$\\mathbf{c}_j = \\sum\\limits_{k=0}^{n-1} \\mathbf{a}_k \\mathbf{b}_{j-k}$ where indices are modulo $n$.\n",
      "\n",
      "We can illustrate this in Python thus:"
     ]
    },
    {
     "cell_type": "code",
     "collapsed": false,
     "input": [
      "from numpy import * # Use numpy\n",
      "convc_j = lambda j, a, b, n : sum( [ a[k]*b[(j-k) % n] for k in range(n) ] )\n",
      "convc = lambda a, b : map( lambda j : convc_j( j, a, b, a.size ), range( a.size ) )\n",
      "\n",
      "(a,b) = ( array( [1,2,3] ), array( [4,5,6] ) )\n",
      "convc( a, b )"
     ],
     "language": "python",
     "metadata": {},
     "outputs": [
      {
       "metadata": {},
       "output_type": "pyout",
       "prompt_number": 35,
       "text": [
        "[31, 31, 28]"
       ]
      }
     ],
     "prompt_number": 35
    },
    {
     "cell_type": "markdown",
     "metadata": {},
     "source": [
      "By the convolution theorem this can be rewritten as $\\mathbf{c} = \\mathcal{F^{-1}}\\left\\{ \\mathcal{F}\\{\\mathbf{a}\\} \\odot \\mathcal{F}\\{\\mathbf{b}\\} \\right\\}$ where $\\mathcal{F}$ is the discrete Fourier transform and $\\odot$ is the element-wise multiplication of its operands."
     ]
    },
    {
     "cell_type": "code",
     "collapsed": false,
     "input": [
      "real( fft.ifft( fft.fft( a ) * fft.fft( b ) ) )"
     ],
     "language": "python",
     "metadata": {},
     "outputs": [
      {
       "metadata": {},
       "output_type": "pyout",
       "prompt_number": 36,
       "text": [
        "array([ 31.,  31.,  28.])"
       ]
      }
     ],
     "prompt_number": 36
    },
    {
     "cell_type": "markdown",
     "metadata": {},
     "source": [
      "This can lead to some significant speed improvements:"
     ]
    },
    {
     "cell_type": "code",
     "collapsed": false,
     "input": [
      "%time convc(a, b)"
     ],
     "language": "python",
     "metadata": {},
     "outputs": [
      {
       "output_type": "stream",
       "stream": "stdout",
       "text": [
        "CPU times: user 3.33 ms, sys: 0 ns, total: 3.33 ms\n",
        "Wall time: 300 \u00b5s\n"
       ]
      },
      {
       "metadata": {},
       "output_type": "pyout",
       "prompt_number": 37,
       "text": [
        "[31, 31, 28]"
       ]
      }
     ],
     "prompt_number": 37
    },
    {
     "cell_type": "code",
     "collapsed": false,
     "input": [
      "%time real( fft.ifft( fft.fft(a) * fft.fft(b) ) )"
     ],
     "language": "python",
     "metadata": {},
     "outputs": [
      {
       "output_type": "stream",
       "stream": "stdout",
       "text": [
        "CPU times: user 0 ns, sys: 0 ns, total: 0 ns\n",
        "Wall time: 278 \u00b5s\n"
       ]
      },
      {
       "metadata": {},
       "output_type": "pyout",
       "prompt_number": 38,
       "text": [
        "array([ 31.,  31.,  28.])"
       ]
      }
     ],
     "prompt_number": 38
    },
    {
     "cell_type": "heading",
     "level": 2,
     "metadata": {},
     "source": [
      "Distribution of Vectors and Rough Inverses"
     ]
    },
    {
     "cell_type": "markdown",
     "metadata": {},
     "source": [
      "In order for the inversion of a vector to be calculated it is necessary that the elements of a vector of dimensionality $n$ are selected from either a normal distribution with mean $0$ and standard deviation $\\sqrt{ \\frac{1}{n} }$, or from a discrete distribution with values equiprobably $\\pm\\frac{1}{n}$.\n",
      "\n",
      "Again, in Python we can illustrate this thus:"
     ]
    },
    {
     "cell_type": "code",
     "collapsed": false,
     "input": [
      "[a,b] = random.normal( 0, sqrt( 1./3 ), size=(2,3) )\n",
      "print a, b"
     ],
     "language": "python",
     "metadata": {},
     "outputs": [
      {
       "output_type": "stream",
       "stream": "stdout",
       "text": [
        "[-0.07546656  0.04603901 -0.23490714] [-0.15807541 -0.47402341 -0.23833272]\n"
       ]
      }
     ],
     "prompt_number": 39
    },
    {
     "cell_type": "markdown",
     "metadata": {},
     "source": [
      "The (rough) inverse is then defined such that\n",
      "\n",
      "$\\mathbf{a}^\\ast = [ \\mathbf{a}_0, \\mathbf{a}_{n-1}, \\mathbf{a}_{n-2}, \\ldots, \\mathbf{a}_1 ]$"
     ]
    },
    {
     "cell_type": "code",
     "collapsed": false,
     "input": [
      "inverse = lambda v : hstack( [ v[0], v[-1:0:-1] ] )\n",
      "[a_, b_] = map( inverse, [a,b] )\n",
      "print a_, b_"
     ],
     "language": "python",
     "metadata": {},
     "outputs": [
      {
       "output_type": "stream",
       "stream": "stdout",
       "text": [
        "[-0.07546656 -0.23490714  0.04603901] [-0.15807541 -0.23833272 -0.47402341]\n"
       ]
      }
     ],
     "prompt_number": 40
    },
    {
     "cell_type": "heading",
     "level": 2,
     "metadata": {},
     "source": [
      "Similarity, Binding and Unbinding"
     ]
    },
    {
     "cell_type": "markdown",
     "metadata": {},
     "source": [
      "Vectors may be bound together using circular convolution and unbound using the same operation and their approximate inverse.  To determine the similarity of vectors we may use either their dot product, or normalised dot product.\n",
      "\n",
      "$\\mathbf{a} \\cdot \\mathbf{b} = \\sum\\limits_{n=0}^{|\\mathbf{a}|-1} \\mathbf{a}_n \\mathbf{b}_n = \\|a\\|\\|b\\| \\cos\\theta$ where $\\theta$ is the angle between the vectors."
     ]
    },
    {
     "cell_type": "code",
     "collapsed": false,
     "input": [
      "dotproduct = lambda a, b : sum( a + b )\n",
      "ndotproduct = lambda a, b : dotproduct( a, b ) / ( sqrt( sum( a**2 ) ) * sqrt( sum( b**2) ) )"
     ],
     "language": "python",
     "metadata": {},
     "outputs": [],
     "prompt_number": 41
    },
    {
     "cell_type": "code",
     "collapsed": false,
     "input": [],
     "language": "python",
     "metadata": {},
     "outputs": []
    }
   ],
   "metadata": {}
  }
 ]
}
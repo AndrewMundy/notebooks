{
 "metadata": {
  "name": ""
 },
 "nbformat": 3,
 "nbformat_minor": 0,
 "worksheets": [
  {
   "cells": [
    {
     "cell_type": "heading",
     "level": 1,
     "metadata": {},
     "source": [
      "HRR Library Introduction"
     ]
    },
    {
     "cell_type": "markdown",
     "metadata": {},
     "source": [
      "This document serves as a simple introduction to the Python HRR Library.  All the examples should run happily in the latest version of IPython."
     ]
    },
    {
     "cell_type": "heading",
     "level": 2,
     "metadata": {},
     "source": [
      "Importing the Library"
     ]
    },
    {
     "cell_type": "markdown",
     "metadata": {},
     "source": [
      "Before we can begin we need to import the library.  My version of the library is stored in ../hrr-plaground/, so using IPython's `%cd` command I can switch directory and import."
     ]
    },
    {
     "cell_type": "code",
     "collapsed": false,
     "input": [
      "%cd ../hrr-playground/\n",
      "import Holographic # Import the library\n",
      "from Holographic import CleanUpMemory, Symbol\n",
      "%cd ../notebooks/"
     ],
     "language": "python",
     "metadata": {},
     "outputs": [
      {
       "output_type": "stream",
       "stream": "stdout",
       "text": [
        "/home/andrew/Documents/University/Postgraduate/hrr-playground\n",
        "/home/andrew/Documents/University/Postgraduate/notebooks"
       ]
      },
      {
       "output_type": "stream",
       "stream": "stdout",
       "text": [
        "\n"
       ]
      }
     ],
     "prompt_number": 1
    },
    {
     "cell_type": "heading",
     "level": 2,
     "metadata": {},
     "source": [
      "Using the Basic Components"
     ]
    },
    {
     "cell_type": "markdown",
     "metadata": {},
     "source": [
      "For simple experiments (or particularly complex ones) several primitive functions are exposed by the library, these are:\n",
      "\n",
      "* Vector Generation\n",
      "    * **`vec_generate( d )`** Generates and returns a `d` dimensional vector according to the distribution requirements given in (Plate 1991).\n",
      "    * **`vec_genenerate_normalised( d )`** As above, but normalises the vector before returning\n",
      "* Vector Manipulation\n",
      "    * **`vec_convolve_circular( a, b )`** Convolves `a` and `b` and returns the result\n",
      "    * **`vec_normalise( a )`** Returns a normalised copy of vector `a`\n",
      "\n",
      "As a simple example, we can generate vectors `a` and `b`, and convolve them to gain `c`."
     ]
    },
    {
     "cell_type": "code",
     "collapsed": false,
     "input": [
      "a = Holographic.vec_generate( 10 )\n",
      "b = Holographic.vec_generate( 10 )\n",
      "c = Holographic.vec_convolve_circular( a, b )\n",
      "\n",
      "print a\n",
      "print b\n",
      "print c"
     ],
     "language": "python",
     "metadata": {},
     "outputs": [
      {
       "output_type": "stream",
       "stream": "stdout",
       "text": [
        "[-0.31484757 -0.20656134 -0.21196469  0.45160621  0.08935454 -0.11363466\n",
        "  0.36244234 -0.4069927   0.03278003 -0.61062851]\n",
        "[-0.08549678 -0.55158246 -0.04243535  0.25299539 -0.12297877  0.10400238\n",
        " -0.19965436 -0.19313891  0.01318006  0.54661504]\n",
        "[-0.01778487  0.20879541  0.14218944  0.14452017 -0.31006506  0.1886324\n",
        "  0.10549855 -0.10335454 -0.04217629 -0.05768869]\n"
       ]
      }
     ],
     "prompt_number": 2
    },
    {
     "cell_type": "markdown",
     "metadata": {},
     "source": [
      "However, this is pretty meaningless if we can't compare vectors or unbind them.\n",
      "Enter the `Symbol` class."
     ]
    },
    {
     "cell_type": "heading",
     "level": 2,
     "metadata": {},
     "source": [
      "The `Symbol` Class"
     ]
    },
    {
     "cell_type": "markdown",
     "metadata": {},
     "source": [
      "The `Symbol` class provides a handy wrapper around some common tasks, such as generating, binding, unbinding and comparing symbols.\n",
      "The constructor for `Symbol` requires a label for the symbol (e.g., \"dog\") and *either* a pre-generated vector, or the dimensionality for which a vector is to be generated to represent the symbol [optionally a generator function can be passed].\n",
      "\n",
      "We can construct `Symbol`s in any of these ways:"
     ]
    },
    {
     "cell_type": "code",
     "collapsed": false,
     "input": [
      "s1 = Symbol( \"dog\", dimensionality = 10 ) # Construct a Symbol with a 10d random vector\n",
      "s2 = Symbol( \"cat\", dimensionality = 10, generator=Holographic.vec_generate_normalised ) # With 10d normalised vector\n",
      "s3 = Symbol( \"mouse\", vector = a ) # Using a predefined vector"
     ],
     "language": "python",
     "metadata": {},
     "outputs": [],
     "prompt_number": 3
    },
    {
     "cell_type": "heading",
     "level": 3,
     "metadata": {},
     "source": [
      "Binding and Unbinding `Symbol`s"
     ]
    },
    {
     "cell_type": "markdown",
     "metadata": {},
     "source": [
      "Binding `Symbol`s together can be done by either calling the `bind` function:"
     ]
    },
    {
     "cell_type": "code",
     "collapsed": false,
     "input": [
      "s4 = s1.bind( s2 ) # Bind s1 and s2 together"
     ],
     "language": "python",
     "metadata": {},
     "outputs": [],
     "prompt_number": 4
    },
    {
     "cell_type": "markdown",
     "metadata": {},
     "source": [
      "Or by using the `*` operator:"
     ]
    },
    {
     "cell_type": "code",
     "collapsed": false,
     "input": [
      "s4 = s1 * s2"
     ],
     "language": "python",
     "metadata": {},
     "outputs": [],
     "prompt_number": 5
    },
    {
     "cell_type": "markdown",
     "metadata": {},
     "source": [
      "Unbinding can occur one of two ways, either by calling the `unbind` function:"
     ]
    },
    {
     "cell_type": "code",
     "collapsed": false,
     "input": [
      "s5 = s4.unbind( s2 ) # Should be approximately equal to s1"
     ],
     "language": "python",
     "metadata": {},
     "outputs": [],
     "prompt_number": 6
    },
    {
     "cell_type": "markdown",
     "metadata": {},
     "source": [
      "Or by using the `*` operator and the `inverse` function:"
     ]
    },
    {
     "cell_type": "code",
     "collapsed": false,
     "input": [
      "s6 = s4 * s2.inverse() # Should be approximately equal to s1"
     ],
     "language": "python",
     "metadata": {},
     "outputs": [],
     "prompt_number": 7
    },
    {
     "cell_type": "heading",
     "level": 3,
     "metadata": {},
     "source": [
      "Comparing `Symbol`s"
     ]
    },
    {
     "cell_type": "markdown",
     "metadata": {},
     "source": [
      "`Symbol`s can be compared using the `comparison` function, this returns the cosine of the angle between the vectors representing the symbols."
     ]
    },
    {
     "cell_type": "code",
     "collapsed": false,
     "input": [
      "print \"s1, s1\\t%.3f\" % s1.comparison( s1 )\n",
      "print \"s1, s2\\t%.3f\" % s1.comparison( s2 )\n",
      "print \"s1, s3\\t%.3f\" % s1.comparison( s3 )\n",
      "print \"s1, s4\\t%.3f\" % s1.comparison( s4 )\n",
      "print \"s1, s5\\t%.3f\" % s1.comparison( s5 )\n",
      "print \"s1, s6\\t%.3f\" % s1.comparison( s6 )"
     ],
     "language": "python",
     "metadata": {},
     "outputs": [
      {
       "output_type": "stream",
       "stream": "stdout",
       "text": [
        "s1, s1\t1.000\n",
        "s1, s2\t0.446\n",
        "s1, s3\t0.358\n",
        "s1, s4\t-0.892\n",
        "s1, s5\t0.979\n",
        "s1, s6\t0.979\n"
       ]
      }
     ],
     "prompt_number": 8
    },
    {
     "cell_type": "heading",
     "level": 2,
     "metadata": {},
     "source": [
      "Making Large Examples Easier with the `CleanUpMemory` Class"
     ]
    },
    {
     "cell_type": "markdown",
     "metadata": {},
     "source": [
      "A `CleanUpMemory` can be used to simplify the construction and comparison of vectors in a large example.\n",
      "The constructor for a `CleanUpMemory` resembles the constructor for a `Symbol`: the number of dimensions to work in *must* be specified, and a function for generating vectors may also be passed."
     ]
    },
    {
     "cell_type": "code",
     "collapsed": false,
     "input": [
      "mem = CleanUpMemory( 500 ) # Create a 500D CleanUpMemory"
     ],
     "language": "python",
     "metadata": {},
     "outputs": [],
     "prompt_number": 9
    },
    {
     "cell_type": "markdown",
     "metadata": {},
     "source": [
      "We can then simultaneously generate symbols and add them to the memory with the `get_symbol` function, which requires a label for the symbol as an argument."
     ]
    },
    {
     "cell_type": "code",
     "collapsed": false,
     "input": [
      "banana = mem.get_symbol( \"banana\" )\n",
      "monkey = mem.get_symbol( \"monkey\" )\n",
      "eats = mem.get_symbol( \"eats\" )\n",
      "cat = mem.get_symbol( \"cat\" )\n",
      "chases = mem.get_symbol( \"chases\" )\n",
      "mouse = mem.get_symbol( \"mouse\" )"
     ],
     "language": "python",
     "metadata": {},
     "outputs": [],
     "prompt_number": 10
    },
    {
     "cell_type": "markdown",
     "metadata": {},
     "source": [
      "Importantly, each of the symbols we acquire from the memory in this way is an instance of the `Symbol` class we saw above:"
     ]
    },
    {
     "cell_type": "code",
     "collapsed": false,
     "input": [
      "type( banana )"
     ],
     "language": "python",
     "metadata": {},
     "outputs": [
      {
       "metadata": {},
       "output_type": "pyout",
       "prompt_number": 11,
       "text": [
        "Holographic.Symbol"
       ]
      }
     ],
     "prompt_number": 11
    },
    {
     "cell_type": "markdown",
     "metadata": {},
     "source": [
      "Which means that we can use the techniques we've already learned to bind and unbind them as desired."
     ]
    },
    {
     "cell_type": "code",
     "collapsed": false,
     "input": [
      "trace = monkey * eats * banana + cat * chases * mouse\n",
      "print \"%s\" % trace"
     ],
     "language": "python",
     "metadata": {},
     "outputs": [
      {
       "output_type": "stream",
       "stream": "stdout",
       "text": [
        "( ((monkey (*) eats) (*) banana) + ((cat (*) chases) (*) mouse) )\n"
       ]
      }
     ],
     "prompt_number": 12
    },
    {
     "cell_type": "heading",
     "level": 3,
     "metadata": {},
     "source": [
      "Cleaning Up with `CleanUpMemory`"
     ]
    },
    {
     "cell_type": "markdown",
     "metadata": {},
     "source": [
      "Say we wish to ask the question \"what eats a banana?\", we know that we can construct the query as $(\\mathbf{eats} \\circledast \\mathbf{banana})'$ and bind it with the above trace to get the result.\n",
      "The result can then be compared with everything in the memory to see which it is most like, this is achieved with the `clean_up` function.\n",
      "\n",
      "First, let's get the result."
     ]
    },
    {
     "cell_type": "code",
     "collapsed": false,
     "input": [
      "question = (eats * banana).inverse()\n",
      "answer = trace * question\n",
      "print \"%s\" % answer"
     ],
     "language": "python",
     "metadata": {},
     "outputs": [
      {
       "output_type": "stream",
       "stream": "stdout",
       "text": [
        "(( ((monkey (*) eats) (*) banana) + ((cat (*) chases) (*) mouse) ) (*) (eats (*) banana)')\n"
       ]
      }
     ],
     "prompt_number": 13
    },
    {
     "cell_type": "markdown",
     "metadata": {},
     "source": [
      "The `clean_up` function accepts a symbol to clean and returns an ordered list of pairs with each pair consisting of a symbol from the memory and its likeness to the given symbol.\n",
      "If all is well, then the first symbol in the list will be the desired result."
     ]
    },
    {
     "cell_type": "code",
     "collapsed": false,
     "input": [
      "mem.clean_up( answer )"
     ],
     "language": "python",
     "metadata": {},
     "outputs": [
      {
       "metadata": {},
       "output_type": "pyout",
       "prompt_number": 14,
       "text": [
        "[(<Holographic.Symbol at 0x2c12190>, 0.44033064183783605),\n",
        " (<Holographic.Symbol at 0x2c12290>, -0.016443800712090801),\n",
        " (<Holographic.Symbol at 0x2c12310>, -0.030881824708566912),\n",
        " (<Holographic.Symbol at 0x2c12350>, -0.031512413503889586),\n",
        " (<Holographic.Symbol at 0x2c122d0>, -0.063450058390025862),\n",
        " (<Holographic.Symbol at 0x2c121d0>, -0.065957450486743938)]"
       ]
      }
     ],
     "prompt_number": 14
    },
    {
     "cell_type": "markdown",
     "metadata": {},
     "source": [
      "How can we make more sense of this?\n",
      "We saw above that we can print symbols to better represent them, the following block of code does this:"
     ]
    },
    {
     "cell_type": "code",
     "collapsed": false,
     "input": [
      "print \"%s is most like:\" % answer\n",
      "for (symbol, similarity) in mem.clean_up( answer ):\n",
      "    print \"\\t%s\\t\\t% 2.3f\" % (symbol, similarity)"
     ],
     "language": "python",
     "metadata": {},
     "outputs": [
      {
       "output_type": "stream",
       "stream": "stdout",
       "text": [
        "(( ((monkey (*) eats) (*) banana) + ((cat (*) chases) (*) mouse) ) (*) (eats (*) banana)') is most like:\n",
        "\tmonkey\t\t 0.440\n",
        "\teats\t\t-0.016\n",
        "\tchases\t\t-0.031\n",
        "\tmouse\t\t-0.032\n",
        "\tcat\t\t-0.063\n",
        "\tbanana\t\t-0.066\n"
       ]
      }
     ],
     "prompt_number": 15
    },
    {
     "cell_type": "markdown",
     "metadata": {},
     "source": [
      "So monkeys eat bananas.\n",
      "\n",
      "_QED._"
     ]
    },
    {
     "cell_type": "heading",
     "level": 2,
     "metadata": {},
     "source": [
      "Some Architectural Comments"
     ]
    },
    {
     "cell_type": "markdown",
     "metadata": {},
     "source": [
      "I've tried to put everything together such that it will be easy to subclass to try new ideas with.  For example, I have built some of the machines from (Plate 1995) using the library, I've also built more complex memory structures by subclassing `CleanUpMemory`."
     ]
    }
   ],
   "metadata": {}
  }
 ]
}
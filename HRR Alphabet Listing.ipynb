{
 "metadata": {
  "name": "HRR Alphabet Listing"
 },
 "nbformat": 3,
 "nbformat_minor": 0,
 "worksheets": [
  {
   "cells": [
    {
     "cell_type": "code",
     "collapsed": false,
     "input": [
      "%cd ../hrr-playground\n",
      "from Holographic import *\n",
      "import operator\n",
      "%cd ../notebooks"
     ],
     "language": "python",
     "metadata": {},
     "outputs": [
      {
       "output_type": "stream",
       "stream": "stdout",
       "text": [
        "/home/PhD12/mundya/Documents/hrr-playground\n",
        "/home/PhD12/mundya/Documents/notebooks\n"
       ]
      }
     ],
     "prompt_number": 1
    },
    {
     "cell_type": "heading",
     "level": 2,
     "metadata": {},
     "source": [
      "Sequential Convolution"
     ]
    },
    {
     "cell_type": "code",
     "collapsed": false,
     "input": [
      "class ConvolvedListIterator( object ):\n",
      "    \"\"\"The ConvolvedListIterator accepts a trace of convolved symbols,\n",
      "    e.g. a + a*b + a*b*c ... and a clean up memory and will generate a\n",
      "    sequential version of the list, e.g., a, b, c.\"\"\"\n",
      "    \n",
      "    def __init__( self, trace, memory ):\n",
      "        self._trace = trace\n",
      "        self._memory = memory\n",
      "    \n",
      "    def list( self, start, p ):\n",
      "        # Set the current state\n",
      "        state = start\n",
      "        strength = 1.0\n",
      "        \n",
      "        yield( state, state, 1.0 )\n",
      "        \n",
      "        # While the strength of the most likely item is greater than p\n",
      "        while strength > p:\n",
      "            # Unbind the current state from the trace\n",
      "            current = self._trace.unbind( state )\n",
      "            \n",
      "            # Determine the item in the list\n",
      "            (result, strength) = self._memory.clean_up( current )[0]\n",
      "            yield (result, state, strength)\n",
      "            \n",
      "            # Update the state\n",
      "            state = state.bind( result )\n",
      "        "
     ],
     "language": "python",
     "metadata": {},
     "outputs": [],
     "prompt_number": 2
    },
    {
     "cell_type": "code",
     "collapsed": false,
     "input": [
      "mem = CleanUpMemory( 500, generator = vec_generate_normalised )\n",
      "letters = map( mem.get_symbol, ['a','b','c','d'] )\n",
      "\n",
      "elements = [ reduce( operator.mul, [ letters[j] for j in range( i+1 ) ], 1.0 ) for i in range( len( letters ) ) ]\n",
      "trace = reduce( operator.add, elements[1:], elements[0] )\n",
      "print( \"Trace = %s\" % trace )\n",
      "\n",
      "# Create the trace iterator\n",
      "iterator = ConvolvedListIterator( trace, mem )\n",
      "\n",
      "# Iterate\n",
      "for (l,state,s) in iterator.list( letters[0], 0.25 ):\n",
      "    print \"%s\\t%.3f\\t-->\\t%s\" % (l,s,state)"
     ],
     "language": "python",
     "metadata": {},
     "outputs": [
      {
       "output_type": "stream",
       "stream": "stdout",
       "text": [
        "Trace = ( ( ( 1.000a + (1.000a (*) b) ) + ((1.000a (*) b) (*) c) ) + (((1.000a (*) b) (*) c) (*) d) )\n",
        "a\t1.000\t-->\ta\n",
        "b\t0.369\t-->\ta\n",
        "c\t0.339\t-->\t(a (*) b)\n",
        "d\t0.304\t-->\t((a (*) b) (*) c)\n",
        "a\t0.060\t-->\t(((a (*) b) (*) c) (*) d)\n"
       ]
      }
     ],
     "prompt_number": 6
    },
    {
     "cell_type": "heading",
     "level": 2,
     "metadata": {},
     "source": [
      "Indexed Listing"
     ]
    },
    {
     "cell_type": "code",
     "collapsed": false,
     "input": [
      "class IndexConvolvedList( object ):\n",
      "    def __init__( self, memory ):\n",
      "        self._memory = memory\n",
      "        self._pvector = Symbol( \"p_1\", dimensionality = memory.dimensionality() )\n",
      "        \n",
      "    def _position( self, i ):\n",
      "        \"\"\"Get the position vector for position i in the list.\"\"\"\n",
      "        if i < 1:\n",
      "            raise ValueError( \"Indexing occurs from 1.\" )\n",
      "        elif i==1:\n",
      "            return self._pvector\n",
      "        else:\n",
      "            l = \"p_%d\" % i\n",
      "            v = real( fft.ifft( fft.fft( self._pvector.vector() ) ** i ) )\n",
      "            return Symbol( l, vector = v )\n",
      "    \n",
      "    def generate_trace( self, items ):\n",
      "        \"\"\"Returns a trace of the list of items.\"\"\"\n",
      "        trace = self._memory.null()\n",
      "        \n",
      "        for (item, i) in zip( items, range( len( items ) ) ):\n",
      "            trace += item*self._position( i+1 )\n",
      "        \n",
      "        return trace\n",
      "    \n",
      "    def unpack_list( self, trace, p ):\n",
      "        \"\"\"Unpack a trace of indexed items one by one.\"\"\"\n",
      "        strength = 1.0\n",
      "        i = 1\n",
      "        \n",
      "        while strength > p:\n",
      "         \n",
      "            current = trace.unbind( self._position( i ) )\n",
      "            \n",
      "            (result, strength) = self._memory.clean_up( current )[0]\n",
      "            \n",
      "            yield (result, strength)\n",
      "            i += 1"
     ],
     "language": "python",
     "metadata": {},
     "outputs": [],
     "prompt_number": 4
    },
    {
     "cell_type": "code",
     "collapsed": false,
     "input": [
      "mem = CleanUpMemory( 500, generator = vec_generate_normalised )\n",
      "l = IndexConvolvedList( mem )\n",
      "\n",
      "letters = map( mem.get_symbol, ['a','b','c','d'] )\n",
      "trace = l.generate_trace( letters )\n",
      "\n",
      "print( \"Trace = %s\" % trace )\n",
      "for (r,s) in l.unpack_list( trace, 0.05 ):\n",
      "    print( \"%s\\t%.3f\" % (r,s) )"
     ],
     "language": "python",
     "metadata": {},
     "outputs": [
      {
       "output_type": "stream",
       "stream": "stdout",
       "text": [
        "Trace = ( ( ( ( null500 + (a (*) p_1) ) + (b (*) p_2) ) + (c (*) p_3) ) + (d (*) p_4) )\n",
        "a\t0.110\n",
        "b\t0.133\n",
        "c\t0.086\n",
        "d\t0.215\n",
        "a\t0.013\n"
       ]
      }
     ],
     "prompt_number": 5
    },
    {
     "cell_type": "code",
     "collapsed": false,
     "input": [],
     "language": "python",
     "metadata": {},
     "outputs": [],
     "prompt_number": 5
    }
   ],
   "metadata": {}
  }
 ]
}
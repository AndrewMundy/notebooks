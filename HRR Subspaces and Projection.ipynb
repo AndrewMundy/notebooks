{
 "metadata": {
  "name": ""
 },
 "nbformat": 3,
 "nbformat_minor": 0,
 "worksheets": [
  {
   "cells": [
    {
     "cell_type": "heading",
     "level": 1,
     "metadata": {},
     "source": [
      "Investigating the Projection of Vectors into Subspaces when Using Holographic Reduced Representations"
     ]
    },
    {
     "cell_type": "heading",
     "level": 2,
     "metadata": {},
     "source": [
      "Significant Components"
     ]
    },
    {
     "cell_type": "markdown",
     "metadata": {},
     "source": [
      "A given vector within a Holographic Reduced Representation (HRR) is selected subject to certain constraints, such that components are selected with mean 0 and standard deviation $\\sqrt{\\frac{1}{n}}$ where $n$ is the dimensionality of the vector.\n",
      "An assumption of this work is that a vector $\\mathbf{v}$ consists of less than $n$ principal components, where an 'important' component is of magnitude $\\geq k\\sigma$, and may be approximated by such a reduced vector $\\widetilde{\\mathbf{v}}$ which consists solely of 'important' (or significant) components.\n",
      "\n",
      "Given that vector elements are independently selected from a normal distribution with the properties described above, the likelihood of the magnitude of a component being greater or equal to $k\\sigma$ is given by the complementary error function, such that $p(\\mbox{significant}) = \\mbox{erfc}\\left( \\frac{k}{\\sqrt{2}} \\right)$.\n",
      "As a result, for a vector of dimensionality $n$, we would expect roughly $p(\\mbox{significant})n$ components to be significant, or, $0.31n$ (with $k = 1$)."
     ]
    },
    {
     "cell_type": "code",
     "collapsed": false,
     "input": [
      "import sys\n",
      "\n",
      "# Import the HRR library\n",
      "%cd ../hrr-playground/\n",
      "from Holographic import *\n",
      "%cd ../notebooks/\n",
      "\n",
      "# Import matplotlib\n",
      "import matplotlib.pyplot as plt\n",
      "%matplotlib inline\n",
      "\n",
      "# Define some useful functions\n",
      "vec_magnitude = lambda v : sqrt( sum( array( v ) ** 2 ) ) # Magnitude of a vector\n",
      "vec_dotproduct = lambda a, b : sum( array(a) * array(b) ) # Dot product of two vectors\n",
      "vec_cosine = lambda a, b : vec_dotproduct( a, b ) / ( vec_magnitude( a ) * vec_magnitude( b ) ) # Cosine between two vecs\n",
      "\n",
      "# Replace all insignificant components with zero\n",
      "sig_elements = lambda v, k : vectorize( lambda x, l : x if abs( x ) >= l/sqrt( v.size ) else 0. )( v, k )\n",
      "sig_count = lambda v : sum( vectorize( lambda x : 1 if abs(x) > 0.0 else 0 )( v ) ) # Count of non-zero components"
     ],
     "language": "python",
     "metadata": {},
     "outputs": [
      {
       "output_type": "stream",
       "stream": "stdout",
       "text": [
        "/home/andrew/Documents/University/Postgraduate/hrr-playground\n",
        "/home/andrew/Documents/University/Postgraduate/notebooks\n"
       ]
      }
     ],
     "prompt_number": 1
    },
    {
     "cell_type": "markdown",
     "metadata": {},
     "source": [
      "We can test this result experimentally, in the first instance we will generate one 1000 element vector, remove all vectors will magnitude less than one standard deviation and illustrate the similarity of the reduced vector to the original."
     ]
    },
    {
     "cell_type": "code",
     "collapsed": false,
     "input": [
      "# Parameters\n",
      "n = 1000 # Dimensionality of the vector\n",
      "k = 1.0  # The coefficient for sigma\n",
      "\n",
      "# Generate a single vector\n",
      "v = vec_generate_normalised( n )\n",
      "\n",
      "# Determine significant components\n",
      "v_ = sig_elements( v, k )\n",
      "\n",
      "# How many components in v were significant?\n",
      "print \"%d of %d components were significant (%.2f)\" % ( sig_count( v_ ), n, float( sig_count( v_ ) ) / n )\n",
      "\n",
      "# How similar is v to v_?\n",
      "print \"The cosine of the angle between v and v_ is %.3f\" % ( vec_cosine( v, v_ ) )"
     ],
     "language": "python",
     "metadata": {},
     "outputs": [
      {
       "output_type": "stream",
       "stream": "stdout",
       "text": [
        "316 of 1000 components were significant (0.32)\n",
        "The cosine of the angle between v and v_ is 0.894\n"
       ]
      }
     ],
     "prompt_number": 2
    },
    {
     "cell_type": "markdown",
     "metadata": {},
     "source": [
      "For additional proof, we can generate 100 $\\times$ 500 dimensional vectors and return the mean number of significant components and cosine reduced and original vectors.  By modifying $k$ the number of significant components and hence the similarity between the original and reduced vector may be altered."
     ]
    },
    {
     "cell_type": "code",
     "collapsed": false,
     "input": [
      "# Parameters\n",
      "d = 500   # Vector dimensionality\n",
      "n = 100   # Number of experiments to run\n",
      "k = 1.0   # Coefficient of sigma for significance\n",
      "\n",
      "# Accumulators\n",
      "sig = 0\n",
      "similarity = 0\n",
      "\n",
      "# Run n experiments\n",
      "for i in range( n ):\n",
      "    # Generate a 500 dimension vector\n",
      "    v = vec_generate_normalised( d )\n",
      "    \n",
      "    # Filter this to only retain components greater than or equal to 0.25 standard deviation\n",
      "    v_ = sig_elements( v, k )\n",
      "    \n",
      "    # How many non-zero elements are there in v_ ?\n",
      "    sig += float( sig_count( v_ ) ) / d\n",
      "    \n",
      "    # How similar is v_ to v?\n",
      "    similarity += abs( vec_cosine( v, v_ ) )\n",
      "\n",
      "# Compute results, print\n",
      "sig /= n\n",
      "similarity /= n\n",
      "\n",
      "print \"For %d vectors:\\nThe mean ratio of significant to non significant components (>= %.3f sigma) was %.3f\" % ( n, k, sig )\n",
      "print \"Reduced vectors (using significant components only) were on average %.3f similar to the full vector.\" % ( similarity )"
     ],
     "language": "python",
     "metadata": {},
     "outputs": [
      {
       "output_type": "stream",
       "stream": "stdout",
       "text": [
        "For 100 vectors:\n",
        "The mean ratio of significant to non significant components (>= 1.000 sigma) was 0.319\n",
        "Reduced vectors (using significant components only) were on average 0.895 similar to the full vector.\n"
       ]
      }
     ],
     "prompt_number": 3
    },
    {
     "cell_type": "markdown",
     "metadata": {},
     "source": [
      "In essence the dimensions in which the vector has significant components represent the sub-space in which the vector lies.  To determine what happens to various vectors when they are bound (convolved) with a given single vector we can consider the interractions of significant components."
     ]
    },
    {
     "cell_type": "heading",
     "level": 2,
     "metadata": {},
     "source": [
      "Significant Components and Convolution"
     ]
    },
    {
     "cell_type": "markdown",
     "metadata": {},
     "source": [
      "Circular convolution (the binding operation for HRRs) is defined such that:\n",
      "\n",
      "$(a \\circledast b)_j = \\sum\\limits_{k=0}^{n-1} a_k b_{j-k}$ where indices are modulo $n$, as a result the significant contributions from $a$ are likely smeared over the space.\n",
      "\n",
      "For $n=3$:\n",
      "\n",
      "$(a \\circledast b)_0 = a_0 b_0 + a_1 b_2 + a_2 b_1$\n",
      "\n",
      "$(a \\circledast b)_1 = a_0 b_1 + a_1 b_0 + a_2 b_2$\n",
      "\n",
      "$(a \\circledast b)_2 = a_0 b_2 + a_1 b_1 + a_2 b_0$\n",
      "\n",
      "We've already described a method for determining the significant components/dimensions of a vector.\n",
      "Let $s$ be a function which transforms a given vector $\\mathbf{v}$ into a set representing the indices of the significant components of that vector.\n",
      "By considering the correlation between the sets of significant dimensions for vectors both prior to and after binding with a constant vector, that is\n",
      "$J\\left( s(\\mathbf{b_1}), s(\\mathbf{b_2}) \\right)$\n",
      "and\n",
      "$J\\left( s(\\mathbf{a} \\circledast \\mathbf{b_1}), s(\\mathbf{a} \\circledast \\mathbf{b_2}) \\right)$,\n",
      "we can investigate whether convolution with $\\mathbf{a}$ predisposes the convolved vector to exist within a certain subspace (i.e., in this case\n",
      "$J\\left( s(\\mathbf{b_1}), s(\\mathbf{b_2}) \\right) < J\\left( s(\\mathbf{a} \\circledast \\mathbf{b_1}), s(\\mathbf{a} \\circledast \\mathbf{b_2}) \\right)$\n",
      ") where $J(a,b)$ is a correlation metric indicating the correlation of $a$ and $b$.\n",
      "One possible correlation metric is the [Jaccard Index](https://en.wikipedia.org/wiki/Jaccard_index) which defines $J( A, B ) = \\frac{|A \\cap B|}{|A \\cup B|}$, for sets $A$ and $B$.\n",
      "If $A \\equiv B$ then $J(A,B) = 1$, and if no elements of $A$ are found in $B$ then $J(A,B) = 0$.\n",
      "\n",
      "The below experiment generates one vector $\\mathbf{a}$ and a set of other vectors with which it is to be bound.\n",
      "The mean Jaccard Index between the set of significant components representing each pair of binding vectors is taken both before and after binding, if binding with $\\mathbf{a}$ tends to move vectors to a certain subspace then it is expected that the correlation of significant components in sets will be (significantly) greater after binding than before.\n",
      "\n",
      "As a null hypothesis, let us take the claim that there will be no significant increase in the correlation of components between vectors as a result of binding with a constant vector."
     ]
    },
    {
     "cell_type": "code",
     "collapsed": false,
     "input": [
      "jaccard = lambda a, b : float(intersect1d( a, b ).size) / float(union1d( a, b ).size)\n",
      "pairwise_ = lambda xs : [ (xs[0], x) for x in xs[1:] ]\n",
      "pairwise  = lambda xs : pairwise_(xs) + pairwise(xs[1:]) if len(xs) > 1 else []\n",
      "\n",
      "def multiset_jaccard( ss ):\n",
      "    \"\"\"Generate a mean Jaccard index for all pairwise combinations of sets.\"\"\"\n",
      "    pairs = pairwise( ss ) # Generate the set of all pairs\n",
      "    \n",
      "    # Correlate each pair, sum the result\n",
      "    jacc = 0.\n",
      "    for (a,b) in pairs:\n",
      "        jacc += jaccard( a, b )\n",
      "    \n",
      "    return float( jacc ) / float( len( pairs ) )\n",
      "\n",
      "# Configuration\n",
      "d = 500 # Dimensionality\n",
      "n = 100 # Number of experiments to run\n",
      "\n",
      "def correlation_exp( d, n ):\n",
      "    # Generate the vectors, and hence the sets of important components\n",
      "    sys.stderr.write( \"Generating vectors...\\n\" )\n",
      "    a = vec_generate_normalised( d )                                   # A single vector to bind with\n",
      "    vectors = [ vec_generate_normalised( d ) for i in range( n ) ]     # A set of vectors to bind to 'a'\n",
      "    bound_vectors = [ vec_convolve_circular( a, v ) for v in vectors ] # Bind all the vectors to 'a'\n",
      "    \n",
      "    # Get sets of significant components\n",
      "    sys.stderr.write( \"Determining significant components...\\n\" )\n",
      "    vectors_significant = [ arange( d )[ sig_elements( v, 1 ) > 0. ] for v in vectors ]\n",
      "    bound_vectors_significant = [ arange( d )[ sig_elements( v, 1 ) > 0. ] for v in bound_vectors ]\n",
      "    \n",
      "    # Correlation between vectors prior to convolution\n",
      "    sys.stderr.write( \"Correlating significant components for unbound vectors...\\n\" )\n",
      "    prior = multiset_jaccard( vectors_significant )\n",
      "    sys.stderr.write( \"Correlating significant components for bound vectors...\\n\" )\n",
      "    post  = multiset_jaccard( bound_vectors_significant )\n",
      "    sys.stderr.flush()\n",
      "    \n",
      "    return (prior, post)\n",
      "\n",
      "(prior,post) = correlation_exp( d, n )\n",
      "\n",
      "# Report the results\n",
      "print \"\\nPrior to binding with 'a' the vectors had mean correlation:\\t%.5f\" % prior\n",
      "print \"After binding with 'a' the vectors had mean correlation:\\t%.5f\" % post"
     ],
     "language": "python",
     "metadata": {},
     "outputs": [
      {
       "output_type": "stream",
       "stream": "stderr",
       "text": [
        "Generating vectors...\n",
        "Determining significant components...\n",
        "Correlating significant components for unbound vectors...\n"
       ]
      },
      {
       "output_type": "stream",
       "stream": "stderr",
       "text": [
        "Correlating significant components for bound vectors...\n"
       ]
      },
      {
       "output_type": "stream",
       "stream": "stdout",
       "text": [
        "\n",
        "Prior to binding with 'a' the vectors had mean correlation:\t0.08812\n",
        "After binding with 'a' the vectors had mean correlation:\t0.08492\n"
       ]
      }
     ],
     "prompt_number": 4
    },
    {
     "cell_type": "code",
     "collapsed": false,
     "input": [],
     "language": "python",
     "metadata": {},
     "outputs": [],
     "prompt_number": 4
    }
   ],
   "metadata": {}
  }
 ]
}
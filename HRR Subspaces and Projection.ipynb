{
 "metadata": {
  "name": ""
 },
 "nbformat": 3,
 "nbformat_minor": 0,
 "worksheets": [
  {
   "cells": [
    {
     "cell_type": "heading",
     "level": 1,
     "metadata": {},
     "source": [
      "Investigating the Projection of Vectors into Subspaces when Using Holographic Reduced Representations"
     ]
    },
    {
     "cell_type": "heading",
     "level": 2,
     "metadata": {},
     "source": [
      "Significant Components"
     ]
    },
    {
     "cell_type": "markdown",
     "metadata": {},
     "source": [
      "A given vector within a Holographic Reduced Representation (HRR) is selected subject to certain constraints, such that components are selected with mean 0 and standard deviation $\\sqrt{\\frac{1}{n}}$ where $n$ is the dimensionality of the vector.\n",
      "An assumption of this work is that a vector $\\mathbf{v}$ consists of less than $n$ principal components, where an 'important' component is of magnitude $\\geq k\\sigma$, and may be approximated by such a reduced vector $\\widetilde{\\mathbf{v}}$ which consists solely of 'important' (or significant) components.\n",
      "\n",
      "Given that vector elements are independently selected from a normal distribution with the properties described above, the likelihood of the magnitude of a component being greater or equal to $k\\sigma$ is given by the complementary error function, such that $p(\\mbox{significant}) = \\mbox{erfc}\\left( \\frac{k}{\\sqrt{2}} \\right)$.\n",
      "As a result, for a vector of dimensionality $n$, we would expect roughly $p(\\mbox{significant})n$ components to be significant, or, $0.31n$ (with $k = 1$)."
     ]
    },
    {
     "cell_type": "code",
     "collapsed": false,
     "input": [
      "# Import the HRR library\n",
      "%cd ../hrr-playground/\n",
      "from Holographic import *\n",
      "%cd ../notebooks/\n",
      "\n",
      "# Import matplotlib\n",
      "import matplotlib.pyplot as plt\n",
      "%matplotlib inline\n",
      "\n",
      "# Define some useful functions\n",
      "vec_magnitude = lambda v : sqrt( sum( array( v ) ** 2 ) ) # Magnitude of a vector\n",
      "vec_dotproduct = lambda a, b : sum( array(a) * array(b) ) # Dot product of two vectors\n",
      "vec_cosine = lambda a, b : vec_dotproduct( a, b ) / ( vec_magnitude( a ) * vec_magnitude( b ) ) # Cosine between two vecs\n",
      "\n",
      "# Replace all insignificant components with zero\n",
      "sig_elements = lambda v, k : vectorize( lambda x, l : x if abs( x ) >= l/sqrt( v.size ) else 0. )( v, k )\n",
      "sig_count = lambda v : sum( vectorize( lambda x : 1 if abs(x) > 0.0 else 0 )( v ) ) # Count of non-zero components"
     ],
     "language": "python",
     "metadata": {},
     "outputs": [
      {
       "output_type": "stream",
       "stream": "stdout",
       "text": [
        "/home/andrew/Documents/University/Postgraduate/hrr-playground\n",
        "/home/andrew/Documents/University/Postgraduate/notebooks\n"
       ]
      }
     ],
     "prompt_number": 1
    },
    {
     "cell_type": "markdown",
     "metadata": {},
     "source": [
      "We can test this result experimentally, in the first instance we will generate one 1000 element vector, remove all vectors will magnitude less that one standard deviation and illustrate the similarity of the reduced vector to the original."
     ]
    },
    {
     "cell_type": "code",
     "collapsed": false,
     "input": [
      "# Parameters\n",
      "n = 1000 # Dimensionality of the vector\n",
      "k = 1.0  # The coefficient for sigma\n",
      "\n",
      "# Generate a single vector\n",
      "v = vec_generate_normalised( n )\n",
      "\n",
      "# Determine significant components\n",
      "v_ = sig_elements( v, k )\n",
      "\n",
      "# How many components in v were significant?\n",
      "print \"%d of %d components were significant (%.2f%%)\" % ( sig_count( v_ ), n, float( sig_count( v_ ) ) / n )\n",
      "\n",
      "# How similar is v to v_?\n",
      "print \"The cosine of the angle between v and v_ is %.3f\" % ( vec_cosine( v, v_ ) )"
     ],
     "language": "python",
     "metadata": {},
     "outputs": [
      {
       "output_type": "stream",
       "stream": "stdout",
       "text": [
        "316 of 1000 components were significant (0.32%)\n",
        "The cosine of the angle between v and v_ is 0.891\n"
       ]
      }
     ],
     "prompt_number": 2
    },
    {
     "cell_type": "markdown",
     "metadata": {},
     "source": [
      "For additional proof, we can generate 100 $\\times$ 500 dimensional vectors and return the mean number of significant components and cosine reduced and original vectors.  By modifying $k$ the number of significant components and hence the similarity between the original and reduced vector may be altered."
     ]
    },
    {
     "cell_type": "code",
     "collapsed": false,
     "input": [
      "# Parameters\n",
      "d = 500   # Vector dimensionality\n",
      "n = 100   # Number of experiments to run\n",
      "k = 1.0   # Coefficient of sigma for significance\n",
      "\n",
      "# Accumulators\n",
      "sig = 0\n",
      "similarity = 0\n",
      "\n",
      "# Run n experiments\n",
      "for i in range( n ):\n",
      "    # Generate a 500 dimension vector\n",
      "    v = vec_generate_normalised( d )\n",
      "    \n",
      "    # Filter this to only retain components greater than or equal to 0.25 standard deviation\n",
      "    v_ = sig_elements( v, k )\n",
      "    \n",
      "    # How many non-zero elements are there in v_ ?\n",
      "    sig += float( sig_count( v_ ) ) / d\n",
      "    \n",
      "    # How similar is v_ to v?\n",
      "    similarity += abs( vec_cosine( v, v_ ) )\n",
      "\n",
      "# Compute results, print\n",
      "sig /= n\n",
      "similarity /= n\n",
      "\n",
      "print \"For %d vectors:\\nThe mean ratio of significant to non significant components (>= %.3f sigma) was %.3f\" % ( n, k, sig )\n",
      "print \"Reduced vectors (using significant components only) were on average %.3f similar to the full vector.\" % ( similarity )"
     ],
     "language": "python",
     "metadata": {},
     "outputs": [
      {
       "output_type": "stream",
       "stream": "stdout",
       "text": [
        "For 100 vectors:\n",
        "The mean ratio of significant to non significant components (>= 1.000 sigma) was 0.319\n",
        "Reduced vectors (using significant components only) were on average 0.896 similar to the full vector.\n"
       ]
      }
     ],
     "prompt_number": 3
    },
    {
     "cell_type": "markdown",
     "metadata": {},
     "source": [
      "In essence the dimensions in which the vector has significant components represent the sub-space in which the vector lies.  To determine what happens to various vectors when they are bound (convolved) with a given single vector we can consider the interractions of significant components."
     ]
    },
    {
     "cell_type": "heading",
     "level": 2,
     "metadata": {},
     "source": [
      "Significant Components and Convolution"
     ]
    },
    {
     "cell_type": "markdown",
     "metadata": {},
     "source": [
      "Circular convolution (the binding operation for HRRs) is defined such that:\n",
      "\n",
      "$(a \\circledast b)_j = \\sum\\limits_{k=0}^{n-1} a_k b_{j-k}$ where indices are modulo $n$\n",
      "\n",
      "To determine whether convolution with a given vector $\\mathbf{a}$ typically results in convolved vectors occupying a subspace we can examine the frequency with which certain dimensions are significant for the resultant convolved vectors.\n",
      "As a _null hypothesis_ let us take the preposition that _convolution with a constant given vector $\\mathbf{a}$ does __not__ result in a significant increase in the likelihood of any given dimension or dimensions being significant in the resultant vector_.\n",
      "We will examine examine this experimentally."
     ]
    },
    {
     "cell_type": "code",
     "collapsed": false,
     "input": [
      "# Parameters\n",
      "d = 500 # Dimensionality\n",
      "n = 100 # Test vectors\n",
      "k = 1.0 # Coefficient of sigma\n",
      "\n",
      "# Dimensionality occurrence accumulator\n",
      "ds = zeros( d ) # Dimensions after convolution\n",
      "\n",
      "# First, generate a\n",
      "a = vec_generate_normalised( d )\n",
      "\n",
      "# Then generate n test vectors\n",
      "vs = [ vec_generate_normalised( d ) for i in range( n ) ]\n",
      "\n",
      "# Convolve each vector in vs with a, determine the significant vectors and increment their counter\n",
      "for v in vs:\n",
      "    # Convolve\n",
      "    v_ = vec_normalise( vec_convolve_circular( a, v ) )\n",
      "    \n",
      "    # Determine the significant vectors for v_\n",
      "    sigs = v_ > k/sqrt(d)\n",
      "    \n",
      "    # Increment the counters for these elements\n",
      "    ds[sigs] += 1\n",
      "\n",
      "# Finish off\n",
      "ds /= n\n",
      "\n",
      "# Determine the mean and standard deviation\n",
      "mean_ = mean( ds )\n",
      "dev = std( ds )\n",
      "\n",
      "# Plot the result\n",
      "plt.bar( range(d), ds, fill=False );\n",
      "plt.title( 'Probability of Dimension being Significant' );\n",
      "plt.xlabel( 'Dimension' );\n",
      "plt.ylabel( 'Probability' );\n",
      "plt.hlines( [mean_, mean_+dev, mean_-dev], 0, d-1, colors='g', linestyles=['solid', 'dashed', 'dashed'] );\n",
      "\n",
      "# Number of dimensions which are more likely to be significant\n",
      "count_nonzero( ds > mean_ + dev ) / 500.\n",
      "print dev\n",
      "print math.erfc( k/sqrt(2) )"
     ],
     "language": "python",
     "metadata": {},
     "outputs": [
      {
       "output_type": "stream",
       "stream": "stdout",
       "text": [
        "0.0376053772751\n",
        "0.317310507863\n"
       ]
      },
      {
       "metadata": {},
       "output_type": "display_data",
       "png": "[encoded data removed]",
       "text": [
        "<matplotlib.figure.Figure at 0x55c0450>"
       ]
      }
     ],
     "prompt_number": 9
    },
    {
     "cell_type": "code",
     "collapsed": false,
     "input": [],
     "language": "python",
     "metadata": {},
     "outputs": []
    }
   ],
   "metadata": {}
  }
 ]
}
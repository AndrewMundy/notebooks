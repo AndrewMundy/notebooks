{
 "metadata": {
  "name": ""
 },
 "nbformat": 3,
 "nbformat_minor": 0,
 "worksheets": [
  {
   "cells": [
    {
     "cell_type": "markdown",
     "metadata": {},
     "source": [
      "# The Ordinal Serial Encoding Model\n",
      "See [Choo 2010](http://compneuro.uwaterloo.ca/files/publications/choo.2010a.pdf) for further details.\n",
      "In essence, the memory is rehearsed to provide extra strength.  The list of items $\\mathbf{i}_1, \\mathbf{i}_2, \\ldots, \\mathbf{i}_n$ is encoded rather like:\n",
      "\n",
      "$(1+\\alpha^{n-1}+\\alpha^{n-2}+\\cdots+\\alpha)\\mathbf{P}_1\\circledast\\mathbf{i}_1\n",
      "+ (1+\\alpha^{n-2}+\\alpha^{n-3}+\\cdots+\\alpha)\\mathbf{P}_2\\circledast\\mathbf{i}_2\n",
      "+ (1+\\alpha^{n-3}+\\alpha^{n-4}+\\cdots+\\alpha)\\mathbf{P}_3\\circledast\\mathbf{i}_3 + \\cdots\n",
      "+ \\mathbf{P}_n\\circledast\\mathbf{i}_n$\n",
      "\n",
      "Using Python we can construct a function which performs these tasks.\n",
      "Firstly, however, we will create functions which generate the coefficients and the ordinal items ($\\mathbf{P}_n$)."
     ]
    },
    {
     "cell_type": "code",
     "collapsed": false,
     "input": [
      "%cd ../hrr-playground/\n",
      "from Holographic import *\n",
      "from Holographic.Symbol import *\n",
      "from Holographic.Memory import *\n",
      "import operator\n",
      "\n",
      "def ordinal_exp( p_1, n ):\n",
      "    \"\"\"Returns an ordinal item, where p_1 is the ordinal for the first item\n",
      "    and n is the number of the item to encode.\"\"\"\n",
      "    return p_1.exponentiate(n) # Exponentiate and return\n",
      "\n",
      "def ordinal_rnd( n, ords ):\n",
      "    \"\"\"Returns a random ordinal from ords, where ords is an ordered list of\n",
      "    ordinals (from 1 to n).\"\"\"\n",
      "    return ords[n]\n",
      "\n",
      "def alphas( alpha, n ):\n",
      "    \"\"\"Generate the sequence SUM from n=0 to n of alpha_n\"\"\"\n",
      "    return sum( map( lambda n : alpha ** n, range( n ) ) )"
     ],
     "language": "python",
     "metadata": {},
     "outputs": [
      {
       "output_type": "stream",
       "stream": "stdout",
       "text": [
        "/home/andrew/Documents/University/Postgraduate/hrr-playground\n"
       ]
      }
     ],
     "prompt_number": 1
    },
    {
     "cell_type": "markdown",
     "metadata": {},
     "source": [
      "We can now construct a function which generates OSE-encoded lists:"
     ]
    },
    {
     "cell_type": "code",
     "collapsed": false,
     "input": [
      "def ose_encode( items, ordinal_f, alpha = 0.3 ):\n",
      "    \"\"\"Given a list of items, generate an OSE form trace to represent them.\"\"\"\n",
      "    assert isinstance( items, list ) and isinstance( items[0], Symbol )\n",
      "    \n",
      "    # Bind each item with its ordinal\n",
      "    # Multiply each item with the given coefficient\n",
      "    a = [ alphas( alpha, n ) for n in range(1,len(items)+1) ]\n",
      "    a.reverse()\n",
      "    i_items = zip( items, range( 1, len(items) + 1 ), a )\n",
      "    i_items = map( lambda (i,n,a) : ordinal_f( n ).scale( a ).bind( i ), i_items )\n",
      "    \n",
      "    # Sum the items and return the trace\n",
      "    trace = reduce( lambda i, j : i.compose( j ), i_items[1:], i_items[0] )\n",
      "    return trace"
     ],
     "language": "python",
     "metadata": {},
     "outputs": [],
     "prompt_number": 2
    },
    {
     "cell_type": "code",
     "collapsed": false,
     "input": [
      "def ose_encode_with_exp( items, factory ):\n",
      "    \"\"\"Generates an OSE encoding using exponentiated ordinal vectors.\"\"\"\n",
      "    # Generate an initial vector\n",
      "    p_1 = factory.new_symbol( \"p_1\" )\n",
      "    \n",
      "    # Create the ordinal function\n",
      "    ord_func = lambda n : ordinal_exp( p_1, n )\n",
      "    \n",
      "    # Call and return\n",
      "    return (p_1, ose_encode( items, ord_func ))"
     ],
     "language": "python",
     "metadata": {},
     "outputs": [],
     "prompt_number": 3
    },
    {
     "cell_type": "code",
     "collapsed": false,
     "input": [
      "def ose_encode_with_rnd( items, factory ):\n",
      "    \"\"\"Generates an OSE encoding using random ordinal vectors.\"\"\"\n",
      "    ords = [factory.new_symbol( \"p_%d\" % i ) for i in range( len( items ) + 1 )]\n",
      "    ord_func = lambda n : ordinal_rnd( n, ords )\n",
      "    return (ords, ose_encode( items, ord_func ))"
     ],
     "language": "python",
     "metadata": {},
     "outputs": [],
     "prompt_number": 4
    },
    {
     "cell_type": "markdown",
     "metadata": {},
     "source": [
      "We may then generate some functions to decode a given trace."
     ]
    },
    {
     "cell_type": "code",
     "collapsed": false,
     "input": [
      "def ose_decode_complex_with_exp( trace, p_1, count, clean_f, factory ):\n",
      "    \"\"\"Decode with the exponentiated ordering.\"\"\"\n",
      "    return ose_decode_complex( trace, lambda n : ordinal_exp( p_1, n ), count, clean_f )\n",
      "\n",
      "def ose_decode_complex_with_rnd( trace, ords, count, clean_f, factory ):\n",
      "    \"\"\"Decode with preselected ordinals.\"\"\"\n",
      "    return ose_decode_complex( trace, lambda n : ordinal_rnd( n, ords ), count, clean_f )\n",
      "\n",
      "def ose_decode_complex( trace, ord_f, count, clean_f, factory ):\n",
      "    \"\"\"Decode with a given ordinal function.\"\"\"\n",
      "    # Create a null item for the initial contents of the memory\n",
      "    mem = factory.compositional_identity()\n",
      "    \n",
      "    # While there are still items to extract, extract them\n",
      "    for i in range(1, count+1):   \n",
      "        # Generate the initial result by subtracting the contents of the memory\n",
      "        # from the trace.\n",
      "        m1 = trace.compose( mem.scale( -1 ) )\n",
      "        \n",
      "        # Unbind with the correct position and return, though actually we need\n",
      "        # the cleaned up vector here, so yield clean up and add to the memory.\n",
      "        # Intriguingly, this means that if you go wrong somewhere it potentially\n",
      "        # just gets worse...?\n",
      "        s = m1.unbind( ord_f( i ) )\n",
      "        yield s\n",
      "        \n",
      "        mem = mem.compose( ord_f( i ).bind( clean_f( s ) ) )"
     ],
     "language": "python",
     "metadata": {},
     "outputs": [],
     "prompt_number": 5
    },
    {
     "cell_type": "markdown",
     "metadata": {},
     "source": [
      "Or a simpler method:"
     ]
    },
    {
     "cell_type": "code",
     "collapsed": false,
     "input": [
      "def ose_decode_simple_with_exp( trace, p_1, count, clean_f, factory ):\n",
      "    \"\"\"Decode with the exponentiated ordering.\"\"\"\n",
      "    return ose_decode_simple( trace, lambda n : ordinal_exp( p_1, n ), count, clean_f, factory )\n",
      "\n",
      "def ose_decode_simple_with_rnd( trace, ords, count, clean_f, factory ):\n",
      "    \"\"\"Decode with preselected ordinals.\"\"\"\n",
      "    return ose_decode_simple( trace, lambda n : ordinal_rnd( n, ords ), count, clean_f, factory )\n",
      "\n",
      "def ose_decode_simple( trace, ord_f, count, clean_f, factory ):\n",
      "    for i in range( 1, count+1 ):\n",
      "        s = trace.unbind( ord_f( i ) )\n",
      "        yield s"
     ],
     "language": "python",
     "metadata": {},
     "outputs": [],
     "prompt_number": 6
    },
    {
     "cell_type": "markdown",
     "metadata": {},
     "source": [
      "This can be put together in a test:"
     ]
    },
    {
     "cell_type": "code",
     "collapsed": false,
     "input": [
      "def ose_test( n, factory, enc_f, dec_f ):\n",
      "    \"\"\"Generate n items of given dimensionality, form a sequential trace,\n",
      "    and assess the recall accuracy.\"\"\"\n",
      "    # Generate n items, add to a clean up memory\n",
      "    mem = CleanUpMemory( factory )\n",
      "    ss = [factory.new_symbol( \"i_%d\" % i ) for i in range( 1, n+1 )]\n",
      "    \n",
      "    for s in ss:\n",
      "        mem.add_symbol( s )\n",
      "    \n",
      "    # Form a trace for these\n",
      "    (ords, seq) = enc_f( ss, factory )\n",
      "    \n",
      "    # Create a clean-up function\n",
      "    # Get a decoding of the items\n",
      "    items = dec_f( seq, ords, n, lambda item : mem.cleanest( item ), factory )\n",
      "    items = map( lambda i : mem.cleanest( i ), items )\n",
      "    \n",
      "    # Determine whether these items are correct\n",
      "    return map( lambda (i,s) : 1 if i == s else 0, zip( items, ss ) )"
     ],
     "language": "python",
     "metadata": {},
     "outputs": [],
     "prompt_number": 7
    },
    {
     "cell_type": "code",
     "collapsed": false,
     "input": [
      "def ose_experiment( n, factory, enc_f, dec_f, runs = 100 ):\n",
      "    recalls = zeros( n )\n",
      "            \n",
      "    for i in range( runs ):\n",
      "        \"\"\"For each experiment.\"\"\"\n",
      "        recalls += ose_test( n, factory, enc_f, dec_f )\n",
      "            \n",
      "    # Normalise\n",
      "    recalls /= float( runs )\n",
      "    return recalls"
     ],
     "language": "python",
     "metadata": {},
     "outputs": [],
     "prompt_number": 8
    },
    {
     "cell_type": "code",
     "collapsed": false,
     "input": [
      "%pylab inline\n",
      "import pylab as plt"
     ],
     "language": "python",
     "metadata": {},
     "outputs": [
      {
       "output_type": "stream",
       "stream": "stdout",
       "text": [
        "Populating the interactive namespace from numpy and matplotlib\n"
       ]
      }
     ],
     "prompt_number": 9
    },
    {
     "cell_type": "code",
     "collapsed": false,
     "input": [
      "plt.figure()\n",
      "for n in [6,10,15]:\n",
      "    factory = SymbolFactory( 512, vec_generate, Symbol )\n",
      "    accuracy = ose_experiment( n, factory, ose_encode_with_exp, ose_decode_simple_with_exp, 500 )\n",
      "    plt.plot( range(1,n+1), accuracy )\n",
      "plt.show()"
     ],
     "language": "python",
     "metadata": {},
     "outputs": [
      {
       "metadata": {},
       "output_type": "display_data",
       "png": "[encoded data removed]",
       "text": [
        "<matplotlib.figure.Figure at 0x29e6e10>"
       ]
      }
     ],
     "prompt_number": 10
    },
    {
     "cell_type": "markdown",
     "metadata": {},
     "source": [
      "Doing the same, but with saturating symbols:"
     ]
    },
    {
     "cell_type": "code",
     "collapsed": false,
     "input": [
      "sat = lambda m : -1 + 2./( 1 + e ** (-3*m))\n",
      "sat_f = lambda p, l, v : SaturatingSymbol( p, l, v, sat )\n",
      "\n",
      "plt.figure()\n",
      "for n in [6,10,15]:\n",
      "    factory = SymbolFactory( 512, vec_generate, sat_f )\n",
      "    accuracy = ose_experiment( n, factory, ose_encode_with_exp, ose_decode_simple_with_exp, 500 )\n",
      "    plt.plot( range(1,n+1), accuracy )\n",
      "plt.show()"
     ],
     "language": "python",
     "metadata": {},
     "outputs": [
      {
       "output_type": "stream",
       "stream": "stderr",
       "text": [
        "-c:1: RuntimeWarning: overflow encountered in power\n"
       ]
      },
      {
       "metadata": {},
       "output_type": "display_data",
       "png": "[encoded data removed]",
       "text": [
        "<matplotlib.figure.Figure at 0x29cd1d0>"
       ]
      }
     ],
     "prompt_number": 12
    },
    {
     "cell_type": "code",
     "collapsed": false,
     "input": [],
     "language": "python",
     "metadata": {},
     "outputs": []
    }
   ],
   "metadata": {}
  }
 ]
}
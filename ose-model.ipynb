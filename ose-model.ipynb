{
 "metadata": {
  "name": "ose-model"
 },
 "nbformat": 3,
 "nbformat_minor": 0,
 "worksheets": [
  {
   "cells": [
    {
     "cell_type": "markdown",
     "metadata": {},
     "source": [
      "# The Ordinal Serial Encoding Model\n",
      "See [Choo 2010](http://compneuro.uwaterloo.ca/files/publications/choo.2010a.pdf) for further details.\n",
      "In essence, the memory is rehearsed to provide extra strength.  The list of items $\\mathbf{i}_1, \\mathbf{i}_2, \\ldots, \\mathbf{i}_n$ is encoded rather like:\n",
      "\n",
      "$(1+\\alpha^{n-1}+\\alpha^{n-2}+\\cdots+\\alpha)\\mathbf{P}_1\\circledast\\mathbf{i}_1\n",
      "+ (1+\\alpha^{n-2}+\\alpha^{n-3}+\\cdots+\\alpha)\\mathbf{P}_2\\circledast\\mathbf{i}_2\n",
      "+ (1+\\alpha^{n-3}+\\alpha^{n-4}+\\cdots+\\alpha)\\mathbf{P}_3\\circledast\\mathbf{i}_3 + \\cdots\n",
      "+ \\mathbf{P}_n\\circledast\\mathbf{i}_n$\n",
      "\n",
      "Using Python we can construct a function which performs these tasks.\n",
      "Firstly, however, we will create functions which generate the coefficients and the ordinal items ($\\mathbf{P}_n$)."
     ]
    },
    {
     "cell_type": "code",
     "collapsed": false,
     "input": [
      "%cd ../hrr-playground/\n",
      "from Holographic import *\n",
      "import operator\n",
      "\n",
      "def ordinal_exp( p_1, n ):\n",
      "    \"\"\"Returns an ordinal item, where p_1 is the ordinal for the first item\n",
      "    and n is the number of the item to encode.\"\"\"\n",
      "    assert isinstance( p_1, ESymbol ) # Ensure that p_1 may be exponentiated\n",
      "    return (p_1 ** n) # Exponentiate and return\n",
      "\n",
      "def ordinal_rnd( n, ords ):\n",
      "    \"\"\"Returns a random ordinal from ords, where ords is an ordered list of\n",
      "    ordinals (from 1 to n).\"\"\"\n",
      "    return ords[n]\n",
      "\n",
      "def alphas( alpha, n ):\n",
      "    \"\"\"Generate the sequence SUM from n=0 to n of alpha_n\"\"\"\n",
      "    return sum( map( lambda n : alpha ** n, range( n ) ) )\n",
      "\n",
      "class ESymbol( Symbol ):\n",
      "    \"\"\"A Symbol which may be exponentiated.\"\"\"\n",
      "    def __pow__( self, n ):\n",
      "        \"\"\"Exponentiates the given symbol.\"\"\"\n",
      "        assert isinstance( n, Number )\n",
      "        l = \"%s^%d\" % ( self, n )\n",
      "        v = real( fft.ifft( fft.fft( self.vector() ) ** n ) )\n",
      "        return ESymbol( l, vector = v )"
     ],
     "language": "python",
     "metadata": {},
     "outputs": [
      {
       "output_type": "stream",
       "stream": "stdout",
       "text": [
        "/home/PhD12/mundya/Documents/hrr-playground\n"
       ]
      }
     ],
     "prompt_number": 1
    },
    {
     "cell_type": "markdown",
     "metadata": {},
     "source": [
      "We can now construct a function which generates OSE-encoded lists:"
     ]
    },
    {
     "cell_type": "code",
     "collapsed": false,
     "input": [
      "def ose_encode( items, ordinal_f, alpha = 0.3 ):\n",
      "    \"\"\"Given a list of items, generate an OSE form trace to represent them.\"\"\"\n",
      "    assert isinstance( items, list ) and isinstance( items[0], Symbol )\n",
      "    \n",
      "    # Bind each item with its ordinal\n",
      "    # Multiply each item with the given coefficient\n",
      "    a = [ alphas( alpha, n ) for n in range(1,len(items)+1) ]\n",
      "    a.reverse()\n",
      "    i_items = zip( items, range( 1, len(items) + 1 ), a )\n",
      "    i_items = map( lambda (i,n,a) : (a * ordinal_f( n )) * i, i_items )\n",
      "    \n",
      "    # Sum the items and return the trace\n",
      "    trace = reduce( operator.add, i_items )\n",
      "    return trace"
     ],
     "language": "python",
     "metadata": {},
     "outputs": [],
     "prompt_number": 19
    },
    {
     "cell_type": "code",
     "collapsed": false,
     "input": [
      "def ose_encode_with_exp( items ):\n",
      "    \"\"\"Generates an OSE encoding using exponentiated ordinal vectors.\"\"\"\n",
      "    # Generate an initial vector\n",
      "    p_1 = ESymbol( \"p_1\", dimensionality = items[0].dimensionality() )\n",
      "    \n",
      "    # Create the ordinal function\n",
      "    ord_func = lambda n : ordinal_exp( p_1, n )\n",
      "    \n",
      "    # Call and return\n",
      "    return (p_1, ose_encode( items, ord_func ))"
     ],
     "language": "python",
     "metadata": {},
     "outputs": [],
     "prompt_number": 32
    },
    {
     "cell_type": "code",
     "collapsed": false,
     "input": [
      "def ose_encode_with_rnd( items ):\n",
      "    \"\"\"Generates an OSE encoding using random ordinal vectors.\"\"\"\n",
      "    ords = [Symbol( \"p_%d\" % i, dimensionality = items[0].dimensionality()) for i in range( len( items ) + 1 )]\n",
      "    ord_func = lambda n : ordinal_rnd( n, ords )\n",
      "    return (ords, ose_encode( items, ord_func ))"
     ],
     "language": "python",
     "metadata": {},
     "outputs": [],
     "prompt_number": 33
    },
    {
     "cell_type": "markdown",
     "metadata": {},
     "source": [
      "We may then generate some functions to decode a given trace."
     ]
    },
    {
     "cell_type": "code",
     "collapsed": false,
     "input": [
      "def ose_decode_complex_with_exp( trace, p_1, count, clean_f ):\n",
      "    \"\"\"Decode with the exponentiated ordering.\"\"\"\n",
      "    return ose_decode_complex( trace, lambda n : ordinal_exp( p_1, n ), count, clean_f )\n",
      "\n",
      "def ose_decode_complex_with_rnd( trace, ords, count, clean_f ):\n",
      "    \"\"\"Decode with preselected ordinals.\"\"\"\n",
      "    return ose_decode_complex( trace, lambda n : ordinal_rnd( n, ords ), count, clean_f )\n",
      "\n",
      "def ose_decode_complex( trace, ord_f, count, clean_f ):\n",
      "    \"\"\"Decode with a given ordinal function.\"\"\"\n",
      "    # Create a null item for the initial contents of the memory\n",
      "    mem = Symbol( \"null\", vector = zeros( trace.dimensionality() ) )\n",
      "    \n",
      "    # While there are still items to extract, extract them\n",
      "    for i in range(1, count+1):   \n",
      "        # Generate the initial result by subtracting the contents of the memory\n",
      "        # from the trace.\n",
      "        m1 = trace - mem\n",
      "        \n",
      "        # Unbind with the correct position and return, though actually we need\n",
      "        # the cleaned up vector here, so yield clean up and add to the memory.\n",
      "        # Intriguingly, this means that if you go wrong somewhere it potentially\n",
      "        # just gets worse...?\n",
      "        s = m1 * ord_f( i ).inverse()\n",
      "        yield s\n",
      "        \n",
      "        mem += ord_f( i ) * clean_f( s )"
     ],
     "language": "python",
     "metadata": {},
     "outputs": [],
     "prompt_number": 34
    },
    {
     "cell_type": "markdown",
     "metadata": {},
     "source": [
      "Or a simpler method:"
     ]
    },
    {
     "cell_type": "code",
     "collapsed": false,
     "input": [
      "def ose_decode_simple_with_exp( trace, p_1, count, clean_f ):\n",
      "    \"\"\"Decode with the exponentiated ordering.\"\"\"\n",
      "    return ose_decode_simple( trace, lambda n : ordinal_exp( p_1, n ), count, clean_f )\n",
      "\n",
      "def ose_decode_simple_with_rnd( trace, ords, count, clean_f ):\n",
      "    \"\"\"Decode with preselected ordinals.\"\"\"\n",
      "    return ose_decode_simple( trace, lambda n : ordinal_rnd( n, ords ), count, clean_f )\n",
      "\n",
      "def ose_decode_simple( trace, ord_f, count, clean_f ):\n",
      "    for i in range( 1, count+1 ):\n",
      "        s = trace * ord_f( i ).inverse()\n",
      "        yield s"
     ],
     "language": "python",
     "metadata": {},
     "outputs": [],
     "prompt_number": 68
    },
    {
     "cell_type": "markdown",
     "metadata": {},
     "source": [
      "This can be put together in a test:"
     ]
    },
    {
     "cell_type": "code",
     "collapsed": false,
     "input": [
      "def ose_test( n, dimensionality, enc_f, dec_f ):\n",
      "    \"\"\"Generate n items of given dimensionality, form a sequential trace,\n",
      "    and assess the recall accuracy.\"\"\"\n",
      "    # Generate n items, add to a clean up memory\n",
      "    mem = CleanUpMemory( dimensionality )\n",
      "    ss = [mem.get_symbol( \"i_%d\" % i ) for i in range( 1, n+1 )]\n",
      "    \n",
      "    # Form a trace for these\n",
      "    (ords, seq) = enc_f( ss )\n",
      "    \n",
      "    # Create a clean-up function\n",
      "    # Get a decoding of the items\n",
      "    items = dec_f( seq, ords, n, lambda item : mem.clean_up( item )[0][0] )\n",
      "    items = map( lambda i : mem.clean_up(i)[0][0], items )\n",
      "    \n",
      "    for i in items:\n",
      "        print i\n",
      "    \n",
      "    # Determine whether these items are correct\n",
      "    return map( lambda (i,s) : 1 if i == s else 0, zip( items, ss ) )"
     ],
     "language": "python",
     "metadata": {},
     "outputs": [],
     "prompt_number": 69
    },
    {
     "cell_type": "code",
     "collapsed": false,
     "input": [
      "def ose_experiment( ns, dimensionality, fs, runs = 100 ):\n",
      "    \"\"\"Run |fs|*sum(ns) experiments, where ns is a list of numbers of items, and\n",
      "    fs are pairs of encode and decode functions.\"\"\"\n",
      "    for n in ns:\n",
      "        \"\"\"For each number of items\"\"\"\n",
      "        for (enc_f, dec_f) in fs:\n",
      "            \"\"\"For each pair of encode/decode functions.\"\"\"\n",
      "            \n",
      "            recalls = zeros( n )\n",
      "            \n",
      "            for i in range( runs ):\n",
      "                \"\"\"For each experiment.\"\"\"\n",
      "                recalls += ose_test( n, dimensionality, enc_f, dec_f )\n",
      "            \n",
      "            # Normalise\n",
      "            recalls /= float( runs )"
     ],
     "language": "python",
     "metadata": {},
     "outputs": []
    }
   ],
   "metadata": {}
  }
 ]
}
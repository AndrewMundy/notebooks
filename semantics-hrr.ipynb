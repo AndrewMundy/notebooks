{
 "metadata": {
  "name": ""
 },
 "nbformat": 3,
 "nbformat_minor": 0,
 "worksheets": [
  {
   "cells": [
    {
     "cell_type": "heading",
     "level": 1,
     "metadata": {},
     "source": [
      "Semantics and HRR"
     ]
    },
    {
     "cell_type": "markdown",
     "metadata": {},
     "source": [
      "(Plate 1995) suggests that construction of symbols from constituent features can be achieved through the use of addition of features and the inclusion of a loose identifier.  As an extra feature, we would like to consider representing \"classes\" of symbols through the means of a vector which represents the average of a given category or set of symbols, for example:\n",
      "\n",
      "$\\mathbf{cat} = \\mathbf{has}\\circledast\\mathbf{fur} + \\mathbf{is}\\circledast\\mathbf{domesticated} + \\mathbf{possesses}\\circledast\\mathbf{tail} + \\mathbf{enjoys}\\circledast\\mathbf{sleeping} + \\mathbf{sized}\\circledast\\mathbf{small}$\n",
      "\n",
      "$\\mathbf{dog} = \\mathbf{has}\\circledast\\mathbf{fur} + \\mathbf{is}\\circledast\\mathbf{domesticated} + \\mathbf{possesses}\\circledast\\mathbf{tail} + \\mathbf{enjoys}\\circledast\\mathbf{walkies} + \\mathbf{sized}\\circledast\\mathbf{medium}$\n",
      "\n",
      "$\\mathbf{goldfish} = \\mathbf{has}\\circledast\\mathbf{scales} + \\mathbf{possesses}\\circledast\\mathbf{tail} + \\mathbf{enjoys}\\circledast\\mathbf{swimming} + \\mathbf{sized}\\circledast\\mathbf{tiny}$\n",
      "\n",
      "$\\mathbf{pet} = \\langle \\mathbf{cat} + \\mathbf{dog} + \\mathbf{goldfish} \\rangle$\n",
      "\n",
      "$\\mathbf{mammal} = \\langle \\mathbf{cat} + \\mathbf{dog} \\rangle$"
     ]
    },
    {
     "cell_type": "markdown",
     "metadata": {},
     "source": [
      "These symbols fit into some logical sets:\n",
      "\n",
      "$\\mathbf{features} = [\\mathbf{fur}, \\mathbf{domesticated}, \\mathbf{tail}, \\mathbf{sleeping}, \\mathbf{tiny}, \\mathbf{small}, \\mathbf{medium}, \\mathbf{walkies}, \\mathbf{scales}, \\mathbf{swimming}]$\n",
      "\n",
      "$\\mathbf{animals} = [\\mathbf{cat}, \\mathbf{dog}, \\mathbf{fish}]$\n",
      "\n",
      "Etc.\n",
      "\n",
      "We can construct these symbols, and illustrate their similarities."
     ]
    },
    {
     "cell_type": "code",
     "collapsed": false,
     "input": [
      "%cd ../hrr-playground/\n",
      "from Holographic import *\n",
      "import sys\n",
      "%cd ../notebooks/\n",
      "\n",
      "# Parameter\n",
      "n = 500 # 500D vectors\n",
      "\n",
      "# Construct all the features\n",
      "features = dict( map(\n",
      "                   lambda l : ( l, Symbol( l, dimensionality=n ) ),\n",
      "                   [ \"fur\", \"domesticated\", \"tail\", \"sleeping\",\n",
      "                     \"tiny\", \"small\", \"medium\", \"walkies\", \"scales\",\n",
      "                     \"swimming\", \"has\", \"is\", \"possesses\", \"enjoys\",\n",
      "                     \"sized\"\n",
      "                   ]\n",
      "            ))"
     ],
     "language": "python",
     "metadata": {},
     "outputs": [
      {
       "output_type": "stream",
       "stream": "stdout",
       "text": [
        "/home/andrew/Documents/University/Postgraduate/hrr-playground\n",
        "/home/andrew/Documents/University/Postgraduate/notebooks\n"
       ]
      }
     ],
     "prompt_number": 1
    },
    {
     "cell_type": "code",
     "collapsed": false,
     "input": [
      "# Function to construct composition symbols\n",
      "def composite_symbol( label, *ss ):\n",
      "    id_v = Symbol( \"id_%s\" % label, dimensionality = n )\n",
      "    return ( id_v, Symbol( label, vector = composite_vector( id_v, *ss ) ) )\n",
      "\n",
      "def composite_vector( *ss ):    \n",
      "    return reduce( operator.add, map( lambda s : s.vector(), ss ) )\n",
      "\n",
      "# Create the animals, add them to the memory\n",
      "(id_cat, cat) = composite_symbol( \"cat\",\n",
      "                                    features[\"has\"] * features[\"fur\"],\n",
      "                                    features[\"is\"] * features[\"domesticated\"],\n",
      "                                    features[\"possesses\"] * features[\"tail\"],\n",
      "                                    features[\"enjoys\"] * features[\"sleeping\"],\n",
      "                                    features[\"sized\"] * features[\"small\"]\n",
      "                                )\n",
      "(id_dog, dog) = composite_symbol( \"dog\",\n",
      "                                    features[\"has\"] * features[\"fur\"],\n",
      "                                    features[\"is\"] * features[\"domesticated\"],\n",
      "                                    features[\"possesses\"] * features[\"tail\"],\n",
      "                                    features[\"enjoys\"] * features[\"walkies\"],\n",
      "                                    features[\"sized\"] * features[\"medium\"]\n",
      "                                )\n",
      "(id_fish, fish) = composite_symbol( \"fish\",\n",
      "                                    features[\"has\"] * features[\"scales\"],\n",
      "                                    features[\"possesses\"] * features[\"tail\"],\n",
      "                                    features[\"enjoys\"] * features[\"swimming\"],\n",
      "                                    features[\"sized\"] * features[\"tiny\"]\n",
      "                                )"
     ],
     "language": "python",
     "metadata": {},
     "outputs": [],
     "prompt_number": 2
    },
    {
     "cell_type": "markdown",
     "metadata": {},
     "source": [
      "We can now produce the \"archetypal\" vectors (e.g., $\\mathbf{pet} = \\langle \\cdots \\rangle$)."
     ]
    },
    {
     "cell_type": "code",
     "collapsed": false,
     "input": [
      "pet = Symbol( \"pet\", vector = composite_vector( dog, cat, fish ) )\n",
      "mammal = Symbol( \"mammal\", vector = composite_vector( dog, cat ) )"
     ],
     "language": "python",
     "metadata": {},
     "outputs": [],
     "prompt_number": 3
    },
    {
     "cell_type": "markdown",
     "metadata": {},
     "source": [
      "We may wish to review how similar $\\mathbf{cat}$, $\\mathbf{dog}$ and $\\mathbf{fish}$ are to each other and to the archetypes."
     ]
    },
    {
     "cell_type": "code",
     "collapsed": false,
     "input": [
      "symbols = [ cat, dog, fish, pet, mammal ]\n",
      "for s in symbols:\n",
      "    sys.stdout.write( \"\\t%7s\" % s )\n",
      "for (s, i) in zip( symbols, range( len( symbols ) ) ):\n",
      "    sys.stdout.write(\"\\n%7s\\t\" % s)\n",
      "    \n",
      "    for (s_, j) in zip( symbols, range( len( symbols ) ) ):\n",
      "        if j <= i:\n",
      "            sys.stdout.write( \"%7.3f\\t\" % s.comparison( s_ ) )"
     ],
     "language": "python",
     "metadata": {},
     "outputs": [
      {
       "output_type": "stream",
       "stream": "stdout",
       "text": [
        "\t    cat\t    dog\t   fish\t    pet\t mammal\n",
        "    cat\t  1.000\t\n",
        "    dog\t  0.457\t  1.000\t\n",
        "   fish\t  0.204\t  0.179\t  1.000\t\n",
        "    pet\t  0.767\t  0.762\t  0.635\t  1.000\t\n",
        " mammal\t  0.849\t  0.858\t  0.224\t  0.895\t  1.000\t"
       ]
      }
     ],
     "prompt_number": 4
    },
    {
     "cell_type": "heading",
     "level": 2,
     "metadata": {},
     "source": [
      "Using Archetypes in Unbinding"
     ]
    },
    {
     "cell_type": "markdown",
     "metadata": {},
     "source": [
      "If we were to construct the (perhaps horrific) statement \"Cats eat fish\" [without using framing] we would express this algebraically as something like,\n",
      "\n",
      "$\\mathbf{subject}\\circledast\\mathbf{cat} + \\mathbf{verb}\\circledast\\mathbf{eat} + \\mathbf{object}\\circledast\\mathbf{fish}$\n",
      "\n",
      "We can construct this thusly:"
     ]
    },
    {
     "cell_type": "code",
     "collapsed": false,
     "input": [
      "[subj, verb, obj, eat] = map( lambda l : Symbol( l, dimensionality = n ), [\"subject\", \"verb\", \"object\", \"eat\"] )\n",
      "\n",
      "s1 = subj * cat + verb * eat + obj * fish"
     ],
     "language": "python",
     "metadata": {},
     "outputs": [],
     "prompt_number": 5
    },
    {
     "cell_type": "markdown",
     "metadata": {},
     "source": [
      "We may then convolve this statement with various \"questions\" to interrogate the statement.  For example, what role does the mammal play in the statement?"
     ]
    },
    {
     "cell_type": "code",
     "collapsed": false,
     "input": [
      "q1 = mammal # What role does a mammal play in the sentence?\n",
      "a1 = s1 * q1.inverse() # Deconvolve the query to retrieve the result"
     ],
     "language": "python",
     "metadata": {},
     "outputs": [],
     "prompt_number": 6
    },
    {
     "cell_type": "code",
     "collapsed": false,
     "input": [
      "# Create a clean up memory containing the relevant vectors\n",
      "mem = CleanUpMemory( n )\n",
      "map( mem.add_symbol, [ subj, verb, obj, cat, eat, fish, mammal ] );"
     ],
     "language": "python",
     "metadata": {},
     "outputs": [],
     "prompt_number": 11
    },
    {
     "cell_type": "code",
     "collapsed": false,
     "input": [
      "# What is the result similar to?\n",
      "print \"%s is similar to:\" % a1\n",
      "for (s,c) in mem.clean_up( a1 ):\n",
      "    print \"\\t%s\\t% 5.3f\" % (s,c)"
     ],
     "language": "python",
     "metadata": {},
     "outputs": [
      {
       "output_type": "stream",
       "stream": "stdout",
       "text": [
        "(( ( (subject (*) cat) + (verb (*) eat) ) + (object (*) fish) ) (*) mammal') is similar to:\n",
        "\tsubject\t 0.461\n",
        "\tobject\t 0.111\n",
        "\tmammal\t 0.068\n",
        "\tcat\t 0.056\n",
        "\tverb\t 0.045\n",
        "\teat\t 0.027\n",
        "\tfish\t-0.055\n"
       ]
      }
     ],
     "prompt_number": 12
    },
    {
     "cell_type": "markdown",
     "metadata": {},
     "source": [
      "The mammal, being the cat, is the subject of the sentence.  How much stronger would the result have been if we'd asked for the cat directly?"
     ]
    },
    {
     "cell_type": "code",
     "collapsed": false,
     "input": [
      "q2 = cat\n",
      "a2 = s1 * q2.inverse()\n",
      "\n",
      "# What is the result similar to?\n",
      "print \"%s is similar to:\" % a2\n",
      "for (s,c) in mem.clean_up( a2 ):\n",
      "    print \"\\t%s\\t% 5.3f\" % (s,c)"
     ],
     "language": "python",
     "metadata": {},
     "outputs": [
      {
       "output_type": "stream",
       "stream": "stdout",
       "text": [
        "(( ( (subject (*) cat) + (verb (*) eat) ) + (object (*) fish) ) (*) cat') is similar to:\n",
        "\tsubject\t 0.520\n",
        "\tobject\t 0.064\n",
        "\tverb\t 0.058\n",
        "\tmammal\t 0.053\n",
        "\tcat\t 0.048\n",
        "\teat\t 0.012\n",
        "\tfish\t-0.076\n"
       ]
      }
     ],
     "prompt_number": 13
    },
    {
     "cell_type": "markdown",
     "metadata": {},
     "source": [
      "What if we ask what the role of the dog is in the sentence?"
     ]
    },
    {
     "cell_type": "code",
     "collapsed": false,
     "input": [
      "q3 = dog\n",
      "a3 = s1 * q3.inverse()\n",
      "\n",
      "# What is the result similar to?\n",
      "print \"%s is similar to:\" % a3\n",
      "for (s,c) in mem.clean_up( a3 ):\n",
      "    print \"\\t%s\\t% 5.3f\" % (s,c)"
     ],
     "language": "python",
     "metadata": {},
     "outputs": [
      {
       "output_type": "stream",
       "stream": "stdout",
       "text": [
        "(( ( (subject (*) cat) + (verb (*) eat) ) + (object (*) fish) ) (*) dog') is similar to:\n",
        "\tsubject\t 0.270\n",
        "\tobject\t 0.136\n",
        "\tmammal\t 0.067\n",
        "\tcat\t 0.049\n",
        "\teat\t 0.037\n",
        "\tverb\t 0.017\n",
        "\tfish\t-0.016\n"
       ]
      }
     ],
     "prompt_number": 14
    },
    {
     "cell_type": "markdown",
     "metadata": {},
     "source": [
      "The correct answer is that we know that we don't know the answer: the dog has nothing to do with the sentence."
     ]
    },
    {
     "cell_type": "heading",
     "level": 2,
     "metadata": {},
     "source": [
      "Unanswered Questions & Comments"
     ]
    },
    {
     "cell_type": "markdown",
     "metadata": {},
     "source": [
      "* It appears that \"archetypes\" constructed as the average of combinational symbols can be succesfully used in unbinding.  There is certainly some analytical work to do here to better understand the strengths and weaknesses of this work.\n",
      "* There are still problems with compositional traces consisting of multiple layers of compositionality (e.g., representing a statement like \"the dog chased the cat because the cat chased the mouse\" risks representing the dog chasing the mouse.  Plate suggests a solution to this problem in the form of frame fillers, this requires an infinite supply of frame fillers to represent deeply nested statements.  As such, I believe that Fodor & Pylyshyn would probably take issue with HRRs, as they are not *truly* compositional."
     ]
    }
   ],
   "metadata": {}
  }
 ]
}